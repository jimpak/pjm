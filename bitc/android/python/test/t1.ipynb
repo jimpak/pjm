{
 "cells": [
  {
   "cell_type": "code",
   "execution_count": 2,
   "metadata": {},
   "outputs": [],
   "source": [
    "import pandas as pd\n",
    "import numpy as np"
   ]
  },
  {
   "cell_type": "code",
   "execution_count": 9,
   "metadata": {},
   "outputs": [],
   "source": [
    "data = pd.read_csv(\"/pjm/bitc/android/python/data/CCTV_20190917.csv\")"
   ]
  },
  {
   "cell_type": "code",
   "execution_count": 10,
   "metadata": {},
   "outputs": [
    {
     "data": {
      "text/plain": [
       "0          부산광역시 부산진구 성지로 116\n",
       "1       부산광역시 부산진구 안창로14번길 78\n",
       "2     부산광역시 부산진구 백양대로260번길 16\n",
       "3       부산광역시 부산진구 양지로11번길 64\n",
       "4        부산광역시 부산진구 국악로60번길 4\n",
       "               ...           \n",
       "84    부산광역시 부산진구 진사로61번길 28-7\n",
       "85          부산광역시 부산진구 복지로 71\n",
       "86     부산광역시 부산진구 성지로104번길 26\n",
       "87    부산광역시 부산진구 백양대로320번길 40\n",
       "88     부산광역시 부산진구 백양순환로 70-11\n",
       "Name: 소재지도로명주소, Length: 89, dtype: object"
      ]
     },
     "execution_count": 10,
     "metadata": {},
     "output_type": "execute_result"
    }
   ],
   "source": [
    "도로명주소=data[\"소재지도로명주소\"]\n",
    "도로명주소"
   ]
  },
  {
   "cell_type": "code",
   "execution_count": 12,
   "metadata": {},
   "outputs": [
    {
     "name": "stdout",
     "output_type": "stream",
     "text": [
      "부산광역시 부산진구 성지로 116\n",
      "부산광역시 부산진구 성지로14번길 65\n",
      "부산광역시 부산진구 성지로74번길 60\n",
      "부산광역시 부산진구 성지로46번길 15\n",
      "부산광역시 부산진구 성지로104번길 26\n"
     ]
    }
   ],
   "source": [
    "for s in 도로명주소:\n",
    "    if '성지로' in s:\n",
    "        print(s)"
   ]
  },
  {
   "cell_type": "code",
   "execution_count": 13,
   "metadata": {},
   "outputs": [
    {
     "name": "stdout",
     "output_type": "stream",
     "text": [
      "['부산광역시 부산진구청' '부산광역시 부산진구 성지로 116' '부산광역시 부산진구 초읍동 178-6' '어린이보호' 1 200.0\n",
      " '360도 전방면' 30.0 nan '051-605-4647' 35.1803305 129.0516257 '2019-09-17']\n",
      "['부산광역시 부산진구청' '부산광역시 부산진구 성지로14번길 65' '부산광역시 부산진구 연지동 50-6' '어린이보호' 0 nan\n",
      " nan nan nan '051-605-4647' 35.1733928 129.0586357 '2019-09-17']\n",
      "['부산광역시 부산진구청' '부산광역시 부산진구 성지로74번길 60' '부산광역시 부산진구 초읍동 529-46' '어린이보호' 0\n",
      " nan nan nan nan '051-605-4647' 35.1790061 129.0563305 '2019-09-17']\n",
      "['부산광역시 부산진구청' '부산광역시 부산진구 성지로46번길 15' '부산광역시 부산진구 연지동 290-31' '어린이보호' 1\n",
      " 200.0 '360도 전방면' 30.0 nan '051-605-4647' 35.1749851 129.0557922\n",
      " '2019-09-17']\n",
      "['부산광역시 부산진구청' '부산광역시 부산진구 성지로104번길 26' '부산광역시 부산진구 초읍동 540' '어린이보호' 1\n",
      " 200.0 '360도 전방면' 30.0 nan '051-605-4647' 35.1802528 129.0544473\n",
      " '2019-09-17']\n"
     ]
    }
   ],
   "source": [
    "for d in data.values:\n",
    "    if '성지로' in d[1]:\n",
    "        print(d)"
   ]
  },
  {
   "cell_type": "code",
   "execution_count": 14,
   "metadata": {},
   "outputs": [
    {
     "ename": "NameError",
     "evalue": "name 'data1' is not defined",
     "output_type": "error",
     "traceback": [
      "\u001b[1;31m---------------------------------------------------------------------------\u001b[0m",
      "\u001b[1;31mNameError\u001b[0m                                 Traceback (most recent call last)",
      "Cell \u001b[1;32mIn[14], line 2\u001b[0m\n\u001b[0;32m      1\u001b[0m \u001b[38;5;66;03m# 저장하기\u001b[39;00m\n\u001b[1;32m----> 2\u001b[0m data1\u001b[38;5;241m.\u001b[39mto_csv(\u001b[38;5;124m\"\u001b[39m\u001b[38;5;124m/pjm/bitc/android/python/data/data1.csv\u001b[39m\u001b[38;5;124m\"\u001b[39m, index\u001b[38;5;241m=\u001b[39m\u001b[38;5;28;01mFalse\u001b[39;00m)\n",
      "\u001b[1;31mNameError\u001b[0m: name 'data1' is not defined"
     ]
    }
   ],
   "source": []
  },
  {
   "cell_type": "code",
   "execution_count": null,
   "metadata": {},
   "outputs": [],
   "source": [
    "# 저장하기\n",
    "data1.to_csv(\"/pjm/bitc/android/python/data/data1.csv\", index=False)"
   ]
  }
 ],
 "metadata": {
  "kernelspec": {
   "display_name": "base",
   "language": "python",
   "name": "python3"
  },
  "language_info": {
   "codemirror_mode": {
    "name": "ipython",
    "version": 3
   },
   "file_extension": ".py",
   "mimetype": "text/x-python",
   "name": "python",
   "nbconvert_exporter": "python",
   "pygments_lexer": "ipython3",
   "version": "3.11.5"
  }
 },
 "nbformat": 4,
 "nbformat_minor": 2
}
