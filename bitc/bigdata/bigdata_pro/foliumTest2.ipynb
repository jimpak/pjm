{
 "cells": [
  {
   "cell_type": "code",
   "execution_count": null,
   "metadata": {},
   "outputs": [],
   "source": [
    "import folium\n",
    "import pandas as pd\n",
    "import numpy as np\n",
    "import requests\n",
    "import json"
   ]
  },
  {
   "cell_type": "code",
   "execution_count": null,
   "metadata": {},
   "outputs": [],
   "source": [
    "r = requests.get('https://raw.githubusercontent.com/southkorea/seoul-maps/master/kostat/2013/json/seoul_municipalities_geo_simple.json')\n",
    "c = r.content\n",
    "seoul_geo=json.loads(c)\n",
    "seoul_geo"
   ]
  },
  {
   "cell_type": "code",
   "execution_count": null,
   "metadata": {},
   "outputs": [],
   "source": [
    "map=folium.Map(location=[37.559819, 126.96389], zoom_start=11)\n",
    "folium.GeoJson(seoul_geo, name='지역구').add_to(map)\n",
    "map"
   ]
  },
  {
   "cell_type": "code",
   "execution_count": null,
   "metadata": {},
   "outputs": [],
   "source": [
    "cb = pd.read_csv('data/CoffeeBean.csv')\n",
    "cb"
   ]
  },
  {
   "cell_type": "code",
   "execution_count": null,
   "metadata": {},
   "outputs": [],
   "source": [
    "addrs=list(cb['address'])\n",
    "addr_list=[]\n",
    "for addr in addrs:\n",
    "    addr_list.append(addr.split()[:2])\n",
    "addr_list\n",
    "df=pd.DataFrame(addr_list, columns=['sido', 'gugun'])\n",
    "df"
   ]
  },
  {
   "cell_type": "code",
   "execution_count": null,
   "metadata": {},
   "outputs": [],
   "source": [
    "addr_df = pd.DataFrame(cb['address'].apply(lambda v: v.split()[:2]).to_list(), columns = ('시도', '구군'))\n",
    "addr_df"
   ]
  },
  {
   "cell_type": "code",
   "execution_count": null,
   "metadata": {},
   "outputs": [],
   "source": [
    "addr_df['시도'].unique()"
   ]
  },
  {
   "cell_type": "code",
   "execution_count": null,
   "metadata": {},
   "outputs": [],
   "source": [
    "addr_aliases = {'서울시':'서울특별시', '서울특별시':'서울시'}\n",
    "addr_df['시도'] = addr_df['시도'].apply(lambda v: addr_aliases.get(v, v))\n",
    "addr_df['시도'].unique()"
   ]
  },
  {
   "cell_type": "code",
   "execution_count": null,
   "metadata": {},
   "outputs": [],
   "source": [
    "addr_df2=addr_df.loc[addr_df.시도=='서울특별시']\n",
    "addr_df2"
   ]
  },
  {
   "cell_type": "code",
   "execution_count": null,
   "metadata": {},
   "outputs": [],
   "source": [
    "addr_group=addr_df2.groupby('구군')['시도'].count()\n",
    "addr_group"
   ]
  },
  {
   "cell_type": "code",
   "execution_count": null,
   "metadata": {},
   "outputs": [],
   "source": [
    "map=folium.Map(location=[37.559819, 126.96389], zoom_start=11)\n",
    "folium.GeoJson(seoul_geo, name='지역구').add_to(map)\n",
    "folium.Choropleth(geo_data=seoul_geo, \n",
    "                  data=addr_group, \n",
    "                  bins=[0,2,5,10,15,20,25,57],\n",
    "                  fill_color='YlOrRd', \n",
    "                  fill_opacity=0.6, \n",
    "                  line_opacity=0.2, \n",
    "                  key_on=\"properties.name\", \n",
    "                  legend_name=\"서울특별시 구별 커피빈 매장 수\").add_to(map)\n",
    "map"
   ]
  },
  {
   "cell_type": "code",
   "execution_count": null,
   "metadata": {},
   "outputs": [],
   "source": [
    "map=folium.Map(location=[37.559819, 126.96389], zoom_start=7)"
   ]
  },
  {
   "cell_type": "code",
   "execution_count": null,
   "metadata": {},
   "outputs": [],
   "source": [
    "sido=open('data/ctprvn.json', 'r', encoding='utf-8')\n",
    "sido_geo=json.load(sido)\n",
    "sido_geo"
   ]
  },
  {
   "cell_type": "code",
   "execution_count": null,
   "metadata": {},
   "outputs": [],
   "source": [
    "folium.GeoJson(sido_geo, name='시도').add_to(map)\n",
    "map"
   ]
  },
  {
   "cell_type": "code",
   "execution_count": null,
   "metadata": {},
   "outputs": [],
   "source": [
    "map1=folium.Map(location=[37.559819, 126.96389], zoom_start=7)"
   ]
  },
  {
   "cell_type": "code",
   "execution_count": null,
   "metadata": {},
   "outputs": [],
   "source": [
    "sig=open('data/sig.json', 'r', encoding='utf-8')\n",
    "sig_geo=json.load(sig)\n",
    "sig_geo"
   ]
  },
  {
   "cell_type": "code",
   "execution_count": null,
   "metadata": {},
   "outputs": [],
   "source": [
    "folium.GeoJson(sig_geo, name='시군').add_to(map1)\n",
    "map1"
   ]
  },
  {
   "cell_type": "code",
   "execution_count": null,
   "metadata": {},
   "outputs": [],
   "source": [
    "df10=pd.read_excel('data/행정구역_시군구_별__성별_인구수_20240227153305.xlsx')\n",
    "df10['gugun']=df10['gugun'].apply(lambda v: v.strip())\n",
    "# df10.to_csv('data/df10.csv', index=False)\n",
    "df11=df10.loc[df10['total'] > 0, :]\n",
    "df11=df11.loc[df11['gugun'] == '소계', :]\n",
    "df11"
   ]
  },
  {
   "cell_type": "code",
   "execution_count": null,
   "metadata": {},
   "outputs": [],
   "source": [
    "folium.Choropleth(geo_data=sido_geo,\n",
    "                  data=df11,\n",
    "                  columns=['sido', 'total'],\n",
    "                  fill_color='RdYlGn',\n",
    "                  fill_opacity=0.3,\n",
    "                  line_opacity=0.1,\n",
    "                  key_on='properties.CTP_KOR_NM',\n",
    "                  legend_name='시도별 총 인구수').add_to(map)\n",
    "map"
   ]
  }
 ],
 "metadata": {
  "kernelspec": {
   "display_name": "base",
   "language": "python",
   "name": "python3"
  },
  "language_info": {
   "codemirror_mode": {
    "name": "ipython",
    "version": 3
   },
   "file_extension": ".py",
   "mimetype": "text/x-python",
   "name": "python",
   "nbconvert_exporter": "python",
   "pygments_lexer": "ipython3",
   "version": "3.11.5"
  }
 },
 "nbformat": 4,
 "nbformat_minor": 2
}
