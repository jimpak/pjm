{
 "cells": [
  {
   "cell_type": "markdown",
   "metadata": {},
   "source": [
    "1. 시도 경계선 geo파일 생성\n",
    "2. 시도별 인구수 구하기\n",
    "3. 시도별 공공의료 기관수 구하기\n",
    "4. 시도별 인구수 대비 공공의료기관 비율 구하기\n",
    "5. choropleth 맵으로 시도별 인구수 대비 공공의료기관수 시각화하기"
   ]
  },
  {
   "cell_type": "code",
   "execution_count": null,
   "metadata": {},
   "outputs": [],
   "source": [
    "import folium\n",
    "import pandas as pd\n",
    "import json"
   ]
  },
  {
   "cell_type": "code",
   "execution_count": null,
   "metadata": {},
   "outputs": [],
   "source": [
    "map=folium.Map(location=[37.559819, 126.96389], zoom_start=7)"
   ]
  },
  {
   "cell_type": "code",
   "execution_count": null,
   "metadata": {},
   "outputs": [],
   "source": [
    "sido=open('data/ctprvn.json', 'r', encoding='utf-8')\n",
    "sido_geo=json.load(sido)\n",
    "sido_geo"
   ]
  },
  {
   "cell_type": "code",
   "execution_count": null,
   "metadata": {},
   "outputs": [],
   "source": [
    "folium.GeoJson(sido_geo, name='시도').add_to(map)\n",
    "map"
   ]
  },
  {
   "cell_type": "code",
   "execution_count": null,
   "metadata": {},
   "outputs": [],
   "source": [
    "df=pd.read_excel('data/시도별_공공의료기관_기능별_기관_수_20240227163818.xlsx')\n",
    "df1 = df[['sido', 'total']]\n",
    "df1"
   ]
  },
  {
   "cell_type": "code",
   "execution_count": null,
   "metadata": {},
   "outputs": [],
   "source": [
    "df=pd.read_excel('data/시도별_공공의료기관_기능별_기관_수_20240227163818.xlsx')\n",
    "df2 = df[['sido', 'percentage']]\n",
    "df2"
   ]
  },
  {
   "cell_type": "code",
   "execution_count": null,
   "metadata": {},
   "outputs": [],
   "source": [
    "folium.Choropleth(geo_data=sido_geo,\n",
    "                  data=df1,\n",
    "                  columns=['sido', 'total'],\n",
    "                  fill_color='RdYlGn',\n",
    "                  fill_opacity=0.3,\n",
    "                  line_opacity=0.1,\n",
    "                  key_on='properties.CTP_KOR_NM',\n",
    "                  legend_name='시도별 총 인구수').add_to(map)\n",
    "map"
   ]
  }
 ],
 "metadata": {
  "kernelspec": {
   "display_name": "base",
   "language": "python",
   "name": "python3"
  },
  "language_info": {
   "codemirror_mode": {
    "name": "ipython",
    "version": 3
   },
   "file_extension": ".py",
   "mimetype": "text/x-python",
   "name": "python",
   "nbconvert_exporter": "python",
   "pygments_lexer": "ipython3",
   "version": "3.11.5"
  }
 },
 "nbformat": 4,
 "nbformat_minor": 2
}
