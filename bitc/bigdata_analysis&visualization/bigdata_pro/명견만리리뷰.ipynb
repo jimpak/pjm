{
 "cells": [
  {
   "cell_type": "code",
   "execution_count": 2,
   "metadata": {},
   "outputs": [],
   "source": [
    "from selenium import webdriver\n",
    "from selenium.webdriver.chrome.service import Service as ChromeService\n",
    "from webdriver_manager.chrome import ChromeDriverManager\n",
    "from selenium.webdriver.common.by import By\n",
    "from selenium.webdriver.common.keys import Keys\n",
    "import time"
   ]
  },
  {
   "cell_type": "code",
   "execution_count": 18,
   "metadata": {},
   "outputs": [],
   "source": [
    "url = 'https://www.yes24.com/Product/Goods/27916697'\n",
    "\n",
    "driver = webdriver.Chrome(service=ChromeService(ChromeDriverManager().install()))\n",
    "driver.implicitly_wait(3)\n",
    "driver.get(url)\n",
    "time.sleep(2)\n",
    "\n",
    "total = driver.find_element(By.ID, 'total')\n",
    "total.click()"
   ]
  },
  {
   "cell_type": "code",
   "execution_count": 19,
   "metadata": {},
   "outputs": [
    {
     "ename": "StaleElementReferenceException",
     "evalue": "Message: stale element reference: stale element not found\n  (Session info: chrome=121.0.6167.185); For documentation on this error, please visit: https://www.selenium.dev/documentation/webdriver/troubleshooting/errors#stale-element-reference-exception\nStacktrace:\n\tGetHandleVerifier [0x00DCE123+48179]\n\t(No symbol) [0x00D55D01]\n\t(No symbol) [0x00C3D72D]\n\t(No symbol) [0x00C41980]\n\t(No symbol) [0x00C434B2]\n\t(No symbol) [0x00C43540]\n\t(No symbol) [0x00C71BDD]\n\t(No symbol) [0x00C93C8C]\n\t(No symbol) [0x00C6D1AE]\n\t(No symbol) [0x00C93F24]\n\t(No symbol) [0x00CAAA1E]\n\t(No symbol) [0x00C93A26]\n\t(No symbol) [0x00C6B7BC]\n\t(No symbol) [0x00C6C62D]\n\tGetHandleVerifier [0x010E7C33+3299139]\n\tGetHandleVerifier [0x01125BF2+3553026]\n\tGetHandleVerifier [0x01120BCC+3532508]\n\tGetHandleVerifier [0x00E6494E+664670]\n\t(No symbol) [0x00D60AB4]\n\t(No symbol) [0x00D5BF08]\n\t(No symbol) [0x00D5C02D]\n\t(No symbol) [0x00D4DD00]\n\tBaseThreadInitThunk [0x76C0FCC9+25]\n\tRtlGetAppContainerNamedObjectPath [0x77467C5E+286]\n\tRtlGetAppContainerNamedObjectPath [0x77467C2E+238]\n",
     "output_type": "error",
     "traceback": [
      "\u001b[1;31m---------------------------------------------------------------------------\u001b[0m",
      "\u001b[1;31mStaleElementReferenceException\u001b[0m            Traceback (most recent call last)",
      "Cell \u001b[1;32mIn[19], line 27\u001b[0m\n\u001b[0;32m     24\u001b[0m     time\u001b[38;5;241m.\u001b[39msleep(\u001b[38;5;241m1\u001b[39m)\n\u001b[0;32m     26\u001b[0m \u001b[38;5;28;01mfor\u001b[39;00m review \u001b[38;5;129;01min\u001b[39;00m review_list:\n\u001b[1;32m---> 27\u001b[0m     temp_list\u001b[38;5;241m.\u001b[39mappend(review\u001b[38;5;241m.\u001b[39mtext)\n\u001b[0;32m     29\u001b[0m \u001b[38;5;28;01mif\u001b[39;00m n \u001b[38;5;241m==\u001b[39m \u001b[38;5;241m12\u001b[39m:\n\u001b[0;32m     30\u001b[0m     stopFlag \u001b[38;5;241m=\u001b[39m \u001b[38;5;28;01mTrue\u001b[39;00m\n",
      "File \u001b[1;32mc:\\Users\\it\\anaconda3\\Lib\\site-packages\\selenium\\webdriver\\remote\\webelement.py:90\u001b[0m, in \u001b[0;36mWebElement.text\u001b[1;34m(self)\u001b[0m\n\u001b[0;32m     87\u001b[0m \u001b[38;5;129m@property\u001b[39m\n\u001b[0;32m     88\u001b[0m \u001b[38;5;28;01mdef\u001b[39;00m \u001b[38;5;21mtext\u001b[39m(\u001b[38;5;28mself\u001b[39m) \u001b[38;5;241m-\u001b[39m\u001b[38;5;241m>\u001b[39m \u001b[38;5;28mstr\u001b[39m:\n\u001b[0;32m     89\u001b[0m \u001b[38;5;250m    \u001b[39m\u001b[38;5;124;03m\"\"\"The text of the element.\"\"\"\u001b[39;00m\n\u001b[1;32m---> 90\u001b[0m     \u001b[38;5;28;01mreturn\u001b[39;00m \u001b[38;5;28mself\u001b[39m\u001b[38;5;241m.\u001b[39m_execute(Command\u001b[38;5;241m.\u001b[39mGET_ELEMENT_TEXT)[\u001b[38;5;124m\"\u001b[39m\u001b[38;5;124mvalue\u001b[39m\u001b[38;5;124m\"\u001b[39m]\n",
      "File \u001b[1;32mc:\\Users\\it\\anaconda3\\Lib\\site-packages\\selenium\\webdriver\\remote\\webelement.py:395\u001b[0m, in \u001b[0;36mWebElement._execute\u001b[1;34m(self, command, params)\u001b[0m\n\u001b[0;32m    393\u001b[0m     params \u001b[38;5;241m=\u001b[39m {}\n\u001b[0;32m    394\u001b[0m params[\u001b[38;5;124m\"\u001b[39m\u001b[38;5;124mid\u001b[39m\u001b[38;5;124m\"\u001b[39m] \u001b[38;5;241m=\u001b[39m \u001b[38;5;28mself\u001b[39m\u001b[38;5;241m.\u001b[39m_id\n\u001b[1;32m--> 395\u001b[0m \u001b[38;5;28;01mreturn\u001b[39;00m \u001b[38;5;28mself\u001b[39m\u001b[38;5;241m.\u001b[39m_parent\u001b[38;5;241m.\u001b[39mexecute(command, params)\n",
      "File \u001b[1;32mc:\\Users\\it\\anaconda3\\Lib\\site-packages\\selenium\\webdriver\\remote\\webdriver.py:347\u001b[0m, in \u001b[0;36mWebDriver.execute\u001b[1;34m(self, driver_command, params)\u001b[0m\n\u001b[0;32m    345\u001b[0m response \u001b[38;5;241m=\u001b[39m \u001b[38;5;28mself\u001b[39m\u001b[38;5;241m.\u001b[39mcommand_executor\u001b[38;5;241m.\u001b[39mexecute(driver_command, params)\n\u001b[0;32m    346\u001b[0m \u001b[38;5;28;01mif\u001b[39;00m response:\n\u001b[1;32m--> 347\u001b[0m     \u001b[38;5;28mself\u001b[39m\u001b[38;5;241m.\u001b[39merror_handler\u001b[38;5;241m.\u001b[39mcheck_response(response)\n\u001b[0;32m    348\u001b[0m     response[\u001b[38;5;124m\"\u001b[39m\u001b[38;5;124mvalue\u001b[39m\u001b[38;5;124m\"\u001b[39m] \u001b[38;5;241m=\u001b[39m \u001b[38;5;28mself\u001b[39m\u001b[38;5;241m.\u001b[39m_unwrap_value(response\u001b[38;5;241m.\u001b[39mget(\u001b[38;5;124m\"\u001b[39m\u001b[38;5;124mvalue\u001b[39m\u001b[38;5;124m\"\u001b[39m, \u001b[38;5;28;01mNone\u001b[39;00m))\n\u001b[0;32m    349\u001b[0m     \u001b[38;5;28;01mreturn\u001b[39;00m response\n",
      "File \u001b[1;32mc:\\Users\\it\\anaconda3\\Lib\\site-packages\\selenium\\webdriver\\remote\\errorhandler.py:229\u001b[0m, in \u001b[0;36mErrorHandler.check_response\u001b[1;34m(self, response)\u001b[0m\n\u001b[0;32m    227\u001b[0m         alert_text \u001b[38;5;241m=\u001b[39m value[\u001b[38;5;124m\"\u001b[39m\u001b[38;5;124malert\u001b[39m\u001b[38;5;124m\"\u001b[39m]\u001b[38;5;241m.\u001b[39mget(\u001b[38;5;124m\"\u001b[39m\u001b[38;5;124mtext\u001b[39m\u001b[38;5;124m\"\u001b[39m)\n\u001b[0;32m    228\u001b[0m     \u001b[38;5;28;01mraise\u001b[39;00m exception_class(message, screen, stacktrace, alert_text)  \u001b[38;5;66;03m# type: ignore[call-arg]  # mypy is not smart enough here\u001b[39;00m\n\u001b[1;32m--> 229\u001b[0m \u001b[38;5;28;01mraise\u001b[39;00m exception_class(message, screen, stacktrace)\n",
      "\u001b[1;31mStaleElementReferenceException\u001b[0m: Message: stale element reference: stale element not found\n  (Session info: chrome=121.0.6167.185); For documentation on this error, please visit: https://www.selenium.dev/documentation/webdriver/troubleshooting/errors#stale-element-reference-exception\nStacktrace:\n\tGetHandleVerifier [0x00DCE123+48179]\n\t(No symbol) [0x00D55D01]\n\t(No symbol) [0x00C3D72D]\n\t(No symbol) [0x00C41980]\n\t(No symbol) [0x00C434B2]\n\t(No symbol) [0x00C43540]\n\t(No symbol) [0x00C71BDD]\n\t(No symbol) [0x00C93C8C]\n\t(No symbol) [0x00C6D1AE]\n\t(No symbol) [0x00C93F24]\n\t(No symbol) [0x00CAAA1E]\n\t(No symbol) [0x00C93A26]\n\t(No symbol) [0x00C6B7BC]\n\t(No symbol) [0x00C6C62D]\n\tGetHandleVerifier [0x010E7C33+3299139]\n\tGetHandleVerifier [0x01125BF2+3553026]\n\tGetHandleVerifier [0x01120BCC+3532508]\n\tGetHandleVerifier [0x00E6494E+664670]\n\t(No symbol) [0x00D60AB4]\n\t(No symbol) [0x00D5BF08]\n\t(No symbol) [0x00D5C02D]\n\t(No symbol) [0x00D4DD00]\n\tBaseThreadInitThunk [0x76C0FCC9+25]\n\tRtlGetAppContainerNamedObjectPath [0x77467C5E+286]\n\tRtlGetAppContainerNamedObjectPath [0x77467C2E+238]\n"
     ]
    }
   ],
   "source": [
    "temp_list = []\n",
    "\n",
    "readlinks = driver.find_elements(By.CSS_SELECTOR, '#infoset_reviewContentList div.reviewInfoBot.crop > a')\n",
    "for readlink in readlinks:\n",
    "    readlink.click()\n",
    "    time.sleep(1)\n",
    "\n",
    "review_list = driver.find_elements(By.CSS_SELECTOR, '#infoset_reviewContentList div.reviewInfoBot.origin > div.review_cont')\n",
    "for review in review_list:\n",
    "    temp_list.append(review.text)\n",
    "temp_list\n",
    "\n",
    "stopFlag = False\n",
    "while True:\n",
    "    for n in range(4,13): # 2페이지부터 10페이지 까지\n",
    "        linkurl = \"#infoset_reviewContentList > div.review_sort.sortBot > div.review_sortLft > div > a:nth-child(\" + str(n) + \")\"\n",
    "        linkNum = driver.find_element(By.CSS_SELECTOR, linkurl)\n",
    "        linkNum.click()\n",
    "        time.sleep(2)\n",
    "\n",
    "        readlinks = driver.find_elements(By.CSS_SELECTOR, '#infoset_reviewContentList div.reviewInfoBot.crop > a')\n",
    "        for readlink in readlinks:\n",
    "            readlink.click()\n",
    "            time.sleep(1)\n",
    "\n",
    "        for review in review_list:\n",
    "            temp_list.append(review.text)\n",
    "\n",
    "        if len(review_list) < 5:\n",
    "            stopFlag = True\n",
    "    if stopFlag == True:\n",
    "        break\n",
    "\n",
    "    nextblock\n",
    "\n",
    "driver.quit()"
   ]
  },
  {
   "cell_type": "code",
   "execution_count": null,
   "metadata": {},
   "outputs": [],
   "source": [
    "for item in temp_list:\n",
    "    print(item)\n",
    "\n",
    "f = open('data/yes24_review.txt', 'w')\n",
    "f.writelines(temp_list)\n",
    "f.close"
   ]
  }
 ],
 "metadata": {
  "kernelspec": {
   "display_name": "base",
   "language": "python",
   "name": "python3"
  },
  "language_info": {
   "codemirror_mode": {
    "name": "ipython",
    "version": 3
   },
   "file_extension": ".py",
   "mimetype": "text/x-python",
   "name": "python",
   "nbconvert_exporter": "python",
   "pygments_lexer": "ipython3",
   "version": "3.11.5"
  }
 },
 "nbformat": 4,
 "nbformat_minor": 2
}
