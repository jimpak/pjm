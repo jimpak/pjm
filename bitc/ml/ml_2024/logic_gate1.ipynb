{
 "cells": [
  {
   "cell_type": "code",
   "execution_count": 2,
   "metadata": {},
   "outputs": [],
   "source": [
    "import numpy as np"
   ]
  },
  {
   "cell_type": "code",
   "execution_count": 3,
   "metadata": {},
   "outputs": [],
   "source": [
    "def sigmoid(x):\n",
    "    return 1/(1+np.exp(-x))"
   ]
  },
  {
   "cell_type": "code",
   "execution_count": 4,
   "metadata": {},
   "outputs": [],
   "source": [
    "def numerical_derivative(f,x):\n",
    "    delta_x=1e-4\n",
    "    grad=np.zeros_like(x)\n",
    "\n",
    "    it=np.nditer(x, flags=['multi_index'], op_flags=['readwrite'])\n",
    "    \n",
    "    while not it.finished:\n",
    "        idx=it.multi_index\n",
    "        tmp_val=x[idx]\n",
    "        \n",
    "        x[idx]=float(tmp_val)+delta_x\n",
    "        fx1=f(x) # f(x+delta_x)\n",
    "\n",
    "        x[idx]=float(tmp_val)-delta_x\n",
    "        fx2=f(x) # f(x-delta_x)\n",
    "\n",
    "        grad[idx]=(fx1-fx2)/(2*delta_x)\n",
    "\n",
    "        x[idx]=tmp_val\n",
    "        it.iternext()\n",
    "        \n",
    "    return grad"
   ]
  },
  {
   "cell_type": "code",
   "execution_count": 5,
   "metadata": {},
   "outputs": [],
   "source": [
    "class LogicGate:\n",
    "    def __init__(self, gate_name, xdata, tdata):\n",
    "        self.name = gate_name\n",
    "        self.__xdata = xdata\n",
    "        self.__tdata = tdata\n",
    "\n",
    "        self.__xdata=xdata.reshape(4,2)\n",
    "        self.__tdata=tdata.reshape(4,1)\n",
    "\n",
    "        self.__w = np.random.rand(2,1)\n",
    "        self.__b = np.random.rand(1)\n",
    "        self.__learning_rate=1e-2\n",
    "    \n",
    "    def __loss_func(self):\n",
    "        delta = 1e-7\n",
    "        z= np.dot(self.__xdata, self.__w)+self.__b\n",
    "        y=sigmoid(z)\n",
    "        return -np.sum(self.__tdata*np.log(y+delta)+(1-self.__tdata)*np.log(1-y)+delta)\n",
    "    \n",
    "    def train(self):\n",
    "        f=lambda x: self.__loss_func()\n",
    "        print('init error value:', self.__loss_func())\n",
    "\n",
    "        for epoch in range(8001):\n",
    "            self.__w-=self.__learning_rate*numerical_derivative(f, self.__w)\n",
    "            self.__b-=self.__learning_rate*numerical_derivative(f, self.__b)\n",
    "\n",
    "            if epoch%400==0:\n",
    "                print(\"epoch:\",epoch, 'cost:',self.__loss_func())\n",
    "\n",
    "    def predict(self, input_data):\n",
    "        z = np.dot(input_data, self.__w)+self.__b\n",
    "        y = sigmoid(z)\n",
    "        if y>=0.5:\n",
    "            result = 1\n",
    "        else:\n",
    "            result = 0\n",
    "        return y,result            "
   ]
  },
  {
   "cell_type": "code",
   "execution_count": 6,
   "metadata": {},
   "outputs": [
    {
     "name": "stdout",
     "output_type": "stream",
     "text": [
      "init error value: 3.28075995105036\n",
      "epoch: 0 cost: 3.2492918421750265\n",
      "epoch: 400 cost: 1.4840597417245711\n",
      "epoch: 800 cost: 1.1144225471857543\n",
      "epoch: 1200 cost: 0.9008483024826872\n",
      "epoch: 1600 cost: 0.7584033997314665\n",
      "epoch: 2000 cost: 0.6553616447077304\n",
      "epoch: 2400 cost: 0.5768973423948687\n",
      "epoch: 2800 cost: 0.5149867108524773\n",
      "epoch: 3200 cost: 0.46483470833875906\n",
      "epoch: 3600 cost: 0.4233679027959711\n",
      "epoch: 4000 cost: 0.38851176360247497\n",
      "epoch: 4400 cost: 0.3588092628425219\n",
      "epoch: 4800 cost: 0.33320428789951106\n",
      "epoch: 5200 cost: 0.31091137449407946\n",
      "epoch: 5600 cost: 0.2913336674530489\n",
      "epoch: 6000 cost: 0.2740092730350571\n",
      "epoch: 6400 cost: 0.25857506035443056\n",
      "epoch: 6800 cost: 0.24474157968989513\n",
      "epoch: 7200 cost: 0.2322752828662485\n",
      "epoch: 7600 cost: 0.220985667400175\n",
      "epoch: 8000 cost: 0.2107158172857716\n"
     ]
    }
   ],
   "source": [
    "xdata = np.array([[0,0],[0,1],[1,0],[1,1]])\n",
    "tdata = np.array([0,0,0,1])\n",
    "and_gate = LogicGate('AND_GATE', xdata, tdata)\n",
    "and_gate.train()"
   ]
  },
  {
   "cell_type": "code",
   "execution_count": 7,
   "metadata": {},
   "outputs": [
    {
     "name": "stdout",
     "output_type": "stream",
     "text": [
      "[0 0] = 0\n",
      "[0 1] = 0\n",
      "[1 0] = 0\n",
      "[1 1] = 1\n"
     ]
    }
   ],
   "source": [
    "test_data = np.array([[0,0],[0,1],[1,0],[1,1]])\n",
    "for input_data in test_data:\n",
    "    (sigmoid_val, logic_val) = and_gate.predict(input_data)\n",
    "    print(input_data, '=', logic_val)"
   ]
  },
  {
   "cell_type": "code",
   "execution_count": 8,
   "metadata": {},
   "outputs": [
    {
     "name": "stdout",
     "output_type": "stream",
     "text": [
      "init error value: 1.725964426891977\n",
      "epoch: 0 cost: 1.7237733063419043\n"
     ]
    },
    {
     "name": "stdout",
     "output_type": "stream",
     "text": [
      "epoch: 400 cost: 1.114424819925213\n",
      "epoch: 800 cost: 0.8064308438406818\n",
      "epoch: 1200 cost: 0.6259465977019353\n",
      "epoch: 1600 cost: 0.5084454534756903\n",
      "epoch: 2000 cost: 0.4263642883215537\n",
      "epoch: 2400 cost: 0.3660725679741395\n",
      "epoch: 2800 cost: 0.3200784351986322\n",
      "epoch: 3200 cost: 0.2839358686763144\n",
      "epoch: 3600 cost: 0.2548480985685802\n",
      "epoch: 4000 cost: 0.2309728877257035\n",
      "epoch: 4400 cost: 0.21105035560143953\n",
      "epoch: 4800 cost: 0.19419152884763935\n",
      "epoch: 5200 cost: 0.1797523041612719\n",
      "epoch: 5600 cost: 0.16725524890760168\n",
      "epoch: 6000 cost: 0.15633939820953052\n",
      "epoch: 6400 cost: 0.1467270614865838\n",
      "epoch: 6800 cost: 0.13820130305724596\n",
      "epoch: 7200 cost: 0.13059031343619254\n",
      "epoch: 7600 cost: 0.12375634160106956\n",
      "epoch: 8000 cost: 0.11758771417855023\n"
     ]
    }
   ],
   "source": [
    "xdata = np.array([[0,0],[0,1],[1,0],[1,1]])\n",
    "tdata = np.array([0,1,1,1])\n",
    "or_gate = LogicGate('OR_GATE', xdata, tdata)\n",
    "or_gate.train()"
   ]
  },
  {
   "cell_type": "code",
   "execution_count": 9,
   "metadata": {},
   "outputs": [
    {
     "name": "stdout",
     "output_type": "stream",
     "text": [
      "[0 0] = 0\n",
      "[0 1] = 1\n",
      "[1 0] = 1\n",
      "[1 1] = 1\n"
     ]
    }
   ],
   "source": [
    "test_data = np.array([[0,0],[0,1],[1,0],[1,1]])\n",
    "for input_data in test_data:\n",
    "    (sigmoid_val, logic_val) = or_gate.predict(input_data)\n",
    "    print(input_data, '=', logic_val)"
   ]
  },
  {
   "cell_type": "code",
   "execution_count": 10,
   "metadata": {},
   "outputs": [
    {
     "name": "stdout",
     "output_type": "stream",
     "text": [
      "init error value: 3.085347754475136\n",
      "epoch: 0 cost: 3.079698082621303\n",
      "epoch: 400 cost: 1.752277528243576\n",
      "epoch: 800 cost: 1.2476816133847666\n",
      "epoch: 1200 cost: 0.9826573468456901\n",
      "epoch: 1600 cost: 0.8147250127588794\n",
      "epoch: 2000 cost: 0.6968753566014\n",
      "epoch: 2400 cost: 0.6089028896097124\n",
      "epoch: 2800 cost: 0.5404645141814204\n",
      "epoch: 3200 cost: 0.48561249118457805\n",
      "epoch: 3600 cost: 0.44063887243821687\n",
      "epoch: 4000 cost: 0.40309241501771464\n",
      "epoch: 4400 cost: 0.3712791668769422\n",
      "epoch: 4800 cost: 0.34398712212146254\n",
      "epoch: 5200 cost: 0.3203244474452376\n",
      "epoch: 5600 cost: 0.2996195109281654\n",
      "epoch: 6000 cost: 0.2813565193197971\n",
      "epoch: 6400 cost: 0.2651326530851325\n",
      "epoch: 6800 cost: 0.25062869393734055\n",
      "epoch: 7200 cost: 0.2375884023272999\n",
      "epoch: 7600 cost: 0.22580373031035417\n",
      "epoch: 8000 cost: 0.21510402138800616\n"
     ]
    }
   ],
   "source": [
    "xdata = np.array([[0,0],[0,1],[1,0],[1,1]])\n",
    "tdata = np.array([1,1,1,0])\n",
    "nand_gate = LogicGate('NAND_GATE', xdata, tdata)\n",
    "nand_gate.train()"
   ]
  },
  {
   "cell_type": "code",
   "execution_count": 11,
   "metadata": {},
   "outputs": [
    {
     "name": "stdout",
     "output_type": "stream",
     "text": [
      "[0 0] = 1\n",
      "[0 1] = 1\n",
      "[1 0] = 1\n",
      "[1 1] = 0\n"
     ]
    }
   ],
   "source": [
    "test_data = np.array([[0,0],[0,1],[1,0],[1,1]])\n",
    "for input_data in test_data:\n",
    "    (sigmoid_val, logic_val) = nand_gate.predict(input_data)\n",
    "    print(input_data, '=', logic_val)"
   ]
  },
  {
   "cell_type": "code",
   "execution_count": 12,
   "metadata": {},
   "outputs": [
    {
     "name": "stdout",
     "output_type": "stream",
     "text": [
      "init error value: 4.054118022646199\n",
      "epoch: 0 cost: 4.025890868955289\n",
      "epoch: 400 cost: 2.773090853445414\n",
      "epoch: 800 cost: 2.7726824892745476\n",
      "epoch: 1200 cost: 2.772608454810027\n",
      "epoch: 1600 cost: 2.7725928951739194\n",
      "epoch: 2000 cost: 2.7725892174089535\n",
      "epoch: 2400 cost: 2.77258827389307\n",
      "epoch: 2800 cost: 2.772588019823588\n",
      "epoch: 3200 cost: 2.7725879496160655\n",
      "epoch: 3600 cost: 2.7725879299608867\n",
      "epoch: 4000 cost: 2.7725879244230036\n",
      "epoch: 4400 cost: 2.7725879228578774\n",
      "epoch: 4800 cost: 2.7725879224148846\n",
      "epoch: 5200 cost: 2.7725879222894108\n",
      "epoch: 5600 cost: 2.7725879222538605\n",
      "epoch: 6000 cost: 2.772587922243786\n",
      "epoch: 6400 cost: 2.7725879222409304\n",
      "epoch: 6800 cost: 2.7725879222401213\n",
      "epoch: 7200 cost: 2.772587922239892\n",
      "epoch: 7600 cost: 2.7725879222398273\n",
      "epoch: 8000 cost: 2.772587922239809\n"
     ]
    }
   ],
   "source": [
    "xdata = np.array([[0,0],[0,1],[1,0],[1,1]])\n",
    "tdata = np.array([0,1,1,0])\n",
    "xor_gate = LogicGate('XOR_GATE', xdata, tdata)\n",
    "xor_gate.train()"
   ]
  },
  {
   "cell_type": "code",
   "execution_count": 13,
   "metadata": {},
   "outputs": [
    {
     "name": "stdout",
     "output_type": "stream",
     "text": [
      "[0 0] = 0\n",
      "[0 1] = 0\n",
      "[1 0] = 0\n",
      "[1 1] = 0\n"
     ]
    }
   ],
   "source": [
    "test_data = np.array([[0,0],[0,1],[1,0],[1,1]])\n",
    "for input_data in test_data:\n",
    "    (sigmoid_val, logic_val) = xor_gate.predict(input_data)\n",
    "    print(input_data, '=', logic_val)"
   ]
  }
 ],
 "metadata": {
  "kernelspec": {
   "display_name": "base",
   "language": "python",
   "name": "python3"
  },
  "language_info": {
   "codemirror_mode": {
    "name": "ipython",
    "version": 3
   },
   "file_extension": ".py",
   "mimetype": "text/x-python",
   "name": "python",
   "nbconvert_exporter": "python",
   "pygments_lexer": "ipython3",
   "version": "undefined.undefined.undefined"
  }
 },
 "nbformat": 4,
 "nbformat_minor": 2
}
