{
 "cells": [
  {
   "cell_type": "code",
   "execution_count": 21,
   "metadata": {},
   "outputs": [],
   "source": [
    "import numpy as np\n",
    "import matplotlib.pyplot as plt"
   ]
  },
  {
   "cell_type": "code",
   "execution_count": 22,
   "metadata": {},
   "outputs": [
    {
     "name": "stdout",
     "output_type": "stream",
     "text": [
      "[[1 2]\n",
      " [2 3]\n",
      " [3 4]\n",
      " [4 5]\n",
      " [5 6]]\n",
      "[[ 3]\n",
      " [ 5]\n",
      " [ 7]\n",
      " [ 9]\n",
      " [11]]\n"
     ]
    }
   ],
   "source": [
    "x_data1=np.array([[1,2],[2,3],[3,4],[4,5],[5,6]]).reshape(5,2)\n",
    "t_data1=np.array([3,5,7,9,11]).reshape(5,1)\n",
    "print(x_data1)\n",
    "print(t_data1)"
   ]
  },
  {
   "cell_type": "code",
   "execution_count": 23,
   "metadata": {},
   "outputs": [
    {
     "name": "stdout",
     "output_type": "stream",
     "text": [
      "[[0.28319713]\n",
      " [0.41631486]]\n",
      "[0.23967707]\n"
     ]
    }
   ],
   "source": [
    "w=np.random.rand(2,1)\n",
    "b=np.random.rand(1)\n",
    "print(w)\n",
    "print(b)"
   ]
  },
  {
   "cell_type": "code",
   "execution_count": 24,
   "metadata": {},
   "outputs": [],
   "source": [
    "# 제곱 손실\n",
    "def loss_func(x, t):\n",
    "    y=np.dot(x,w)+b\n",
    "    return (np.sum((t-y)**2))/(len(x))"
   ]
  },
  {
   "cell_type": "code",
   "execution_count": 25,
   "metadata": {},
   "outputs": [],
   "source": [
    "# 미분\n",
    "def numerical_derivative(f,x):\n",
    "    delta_x = 1e-4\n",
    "    grad=np.zeros_like(x)\n",
    "\n",
    "    it=np.nditer(x, flags=['multi_index'], op_flags=['readwrite'])\n",
    "\n",
    "    while not it.finished:\n",
    "        idx=it.multi_index\n",
    "        tmp_val = x[idx]\n",
    "        x[idx]=float(tmp_val)+delta_x\n",
    "        fx1=f(x)\n",
    "        x[idx]=float(tmp_val)-delta_x\n",
    "        fx2=f(x)\n",
    "        grad[idx] =(fx1-fx2)/(2*delta_x)\n",
    "\n",
    "        x[idx]=tmp_val\n",
    "        it.iternext()\n",
    "    \n",
    "    return grad"
   ]
  },
  {
   "cell_type": "code",
   "execution_count": 26,
   "metadata": {},
   "outputs": [],
   "source": [
    "# 예측\n",
    "def predict(x):\n",
    "    y=np.dot(x, w)+b"
   ]
  },
  {
   "cell_type": "code",
   "execution_count": 27,
   "metadata": {},
   "outputs": [
    {
     "name": "stdout",
     "output_type": "stream",
     "text": [
      "init error value= 21.406571347551655 init w= [[0.28319713]\n",
      " [0.41631486]] init b= [0.23967707]\n",
      "step= 0 error value= 21.152672999231864 w= [[0.28626461]\n",
      " [0.42023143]] b= [0.24052119]\n",
      "step= 100 error value= 6.427481415278841 w= [[0.51672549]\n",
      " [0.71407201]] b= [0.30352754]\n",
      "step= 200 error value= 1.971263508950368 w= [[0.64393009]\n",
      " [0.8755174 ]] b= [0.33756285]\n",
      "step= 300 error value= 0.6225490153890247 w= [[0.7143317 ]\n",
      " [0.96413297]] b= [0.35566369]\n",
      "step= 400 error value= 0.21420159409246842 w= [[0.75348424]\n",
      " [1.01268564]] b= [0.36500147]\n",
      "step= 500 error value= 0.09042228110571185 w= [[0.77544497]\n",
      " [1.03920048]] b= [0.36952119]\n",
      "step= 600 error value= 0.052758820237995344 w= [[0.78794678]\n",
      " [1.05359308]] b= [0.37139298]\n",
      "step= 700 error value= 0.04115708207585418 w= [[0.79524354]\n",
      " [1.06131803]] b= [0.3718106]\n",
      "step= 800 error value= 0.037443818291012516 w= [[0.79967532]\n",
      " [1.06537586]] b= [0.37143074]\n",
      "step= 900 error value= 0.036119471600653985 w= [[0.8025294 ]\n",
      " [1.06741718]] b= [0.37061465]\n",
      "step= 1000 error value= 0.03551973330918793 w= [[0.8045139 ]\n",
      " [1.06834999]] b= [0.36956102]\n",
      "step= 1100 error value= 0.03514091335779209 w= [[0.80601839]\n",
      " [1.06867378]] b= [0.36837915]\n",
      "step= 1200 error value= 0.034830555059804987 w= [[0.80725716]\n",
      " [1.06866329]] b= [0.36712916]\n",
      "step= 1300 error value= 0.0345424986347095 w= [[0.80834811]\n",
      " [1.06846969]] b= [0.36584411]\n",
      "step= 1400 error value= 0.03426275641635014 w= [[0.80935609]\n",
      " [1.0681761 ]] b= [0.36454217]\n"
     ]
    },
    {
     "name": "stdout",
     "output_type": "stream",
     "text": [
      "step= 1500 error value= 0.03398707945574152 w= [[0.8103168 ]\n",
      " [1.06782827]] b= [0.36323333]\n",
      "step= 1600 error value= 0.033714167586716234 w= [[0.81124987]\n",
      " [1.06745134]] b= [0.36192308]\n",
      "step= 1700 error value= 0.0334436139770247 w= [[0.81216611]\n",
      " [1.06705916]] b= [0.36061442]\n",
      "step= 1800 error value= 0.03317528271963818 w= [[0.81307146]\n",
      " [1.06665933]] b= [0.35930901]\n",
      "step= 1900 error value= 0.03290912026111999 w= [[0.81396922]\n",
      " [1.06625602]] b= [0.35800773]\n",
      "step= 2000 error value= 0.03264509821461831 w= [[0.8148612 ]\n",
      " [1.06585155]] b= [0.35671107]\n"
     ]
    }
   ],
   "source": [
    "# 훈련\n",
    "learning_rate=1e-4\n",
    "f=lambda x: loss_func(x_data1, t_data1)\n",
    "print('init error value=',loss_func(x_data1, t_data1), 'init w=',w, 'init b=',b)\n",
    "\n",
    "for step in range(2001):\n",
    "    w-=learning_rate*numerical_derivative(f,w)\n",
    "    b-=learning_rate*numerical_derivative(f,b)\n",
    "\n",
    "    if step % 100 == 0:\n",
    "        print('step=',step, 'error value=',loss_func(x_data1,t_data1), 'w=',w, 'b=', b)"
   ]
  },
  {
   "cell_type": "code",
   "execution_count": 28,
   "metadata": {},
   "outputs": [
    {
     "name": "stdout",
     "output_type": "stream",
     "text": [
      "[[ 93  88  93]\n",
      " [ 89  91  90]\n",
      " [ 96  98 100]\n",
      " [ 73  66  70]\n",
      " [ 53  46  55]\n",
      " [ 69  74  77]\n",
      " [ 47  56  60]\n",
      " [ 87  79  90]\n",
      " [ 79  70  88]\n",
      " [ 69  70  73]\n",
      " [ 70  65  74]\n",
      " [ 93  95  91]\n",
      " [ 79  80  73]\n",
      " [ 70  73  78]\n",
      " [ 93  89  96]\n",
      " [ 78  75  68]\n",
      " [ 81  90  93]\n",
      " [ 88  92  86]\n",
      " [ 78  83  77]\n",
      " [ 82  86  90]\n",
      " [ 86  82  89]\n",
      " [ 78  83  85]\n",
      " [ 76  83  71]\n",
      " [ 96  93  95]]\n",
      "[[ 93]\n",
      " [ 88]\n",
      " [ 93]\n",
      " [ 89]\n",
      " [ 91]\n",
      " [ 90]\n",
      " [ 96]\n",
      " [ 98]\n",
      " [100]\n",
      " [ 73]\n",
      " [ 66]\n",
      " [ 70]\n",
      " [ 53]\n",
      " [ 46]\n",
      " [ 55]\n",
      " [ 69]\n",
      " [ 74]\n",
      " [ 77]\n",
      " [ 47]\n",
      " [ 56]\n",
      " [ 60]\n",
      " [ 87]\n",
      " [ 79]\n",
      " [ 90]\n",
      " [ 79]\n",
      " [ 70]\n",
      " [ 88]\n",
      " [ 69]\n",
      " [ 70]\n",
      " [ 73]\n",
      " [ 70]\n",
      " [ 65]\n",
      " [ 74]\n",
      " [ 93]\n",
      " [ 95]\n",
      " [ 91]\n",
      " [ 79]\n",
      " [ 80]\n",
      " [ 73]\n",
      " [ 70]\n",
      " [ 73]\n",
      " [ 78]\n",
      " [ 93]\n",
      " [ 89]\n",
      " [ 96]\n",
      " [ 78]\n",
      " [ 75]\n",
      " [ 68]\n",
      " [ 81]\n",
      " [ 90]\n",
      " [ 93]\n",
      " [ 88]\n",
      " [ 92]\n",
      " [ 86]\n",
      " [ 78]\n",
      " [ 83]\n",
      " [ 77]\n",
      " [ 82]\n",
      " [ 86]\n",
      " [ 90]\n",
      " [ 86]\n",
      " [ 82]\n",
      " [ 89]\n",
      " [ 78]\n",
      " [ 83]\n",
      " [ 85]\n",
      " [ 76]\n",
      " [ 83]\n",
      " [ 71]\n",
      " [ 96]\n",
      " [ 93]\n",
      " [ 95]]\n"
     ]
    }
   ],
   "source": [
    "import pandas as pd\n",
    "df=pd.read_csv('data/data-01-test-score.csv')\n",
    "data=np.array(df.values)\n",
    "x_data = data[:, :3].reshape(-1,3)\n",
    "t_data = data[:, :-1].reshape(-1,1)\n",
    "print(x_data)\n",
    "print(t_data)"
   ]
  },
  {
   "cell_type": "code",
   "execution_count": 29,
   "metadata": {},
   "outputs": [
    {
     "name": "stdout",
     "output_type": "stream",
     "text": [
      "[[0.73323889]\n",
      " [0.67164879]]\n",
      "[0.50584147]\n"
     ]
    }
   ],
   "source": [
    "w=np.random.rand(2,1)\n",
    "b=np.random.rand(1)\n",
    "print(w)\n",
    "print(b)"
   ]
  },
  {
   "cell_type": "code",
   "execution_count": 30,
   "metadata": {},
   "outputs": [],
   "source": [
    "# 제곱 손실\n",
    "def loss_func(x, t):\n",
    "    y=np.dot(x,w)+b\n",
    "    return (np.sum((t-y)**2))/(len(x))"
   ]
  },
  {
   "cell_type": "code",
   "execution_count": 31,
   "metadata": {},
   "outputs": [],
   "source": [
    "# 미분\n",
    "def numerical_derivative(f,x):\n",
    "    delta_x = 1e-4\n",
    "    grad=np.zeros_like(x)\n",
    "\n",
    "    it=np.nditer(x, flags=['multi_index'], op_flags=['readwrite'])\n",
    "\n",
    "    while not it.finished:\n",
    "        idx=it.multi_index\n",
    "        tmp_val = x[idx]\n",
    "        x[idx]=float(tmp_val)+delta_x\n",
    "        fx1=f(x)\n",
    "        x[idx]=float(tmp_val)-delta_x\n",
    "        fx2=f(x)\n",
    "        grad[idx] =(fx1-fx2)/(2*delta_x)\n",
    "\n",
    "        x[idx]=tmp_val\n",
    "        it.iternext()\n",
    "    \n",
    "    return grad"
   ]
  },
  {
   "cell_type": "code",
   "execution_count": 32,
   "metadata": {},
   "outputs": [],
   "source": [
    "# 예측\n",
    "def predict(x):\n",
    "    y = np.dot(x, w) + b\n",
    "    return y"
   ]
  },
  {
   "cell_type": "code",
   "execution_count": 33,
   "metadata": {},
   "outputs": [
    {
     "name": "stdout",
     "output_type": "stream",
     "text": [
      "init error value= 3.293488426925239 init w= [[0.73323889]\n",
      " [0.67164879]] init b= [0.50584147]\n",
      "step= 0 error value= 3.2548742468319887 w= [[0.73444164]\n",
      " [0.67317311]] b= [0.5061611]\n",
      "step= 100 error value= 1.0152596481842155 w= [[0.82496639]\n",
      " [0.7874609 ]] b= [0.52977839]\n",
      "step= 200 error value= 0.3372809612497255 w= [[0.87522224]\n",
      " [0.85012047]] b= [0.54210183]\n",
      "step= 300 error value= 0.1318736225839841 w= [[0.90332431]\n",
      " [0.88438019]] b= [0.54821521]\n",
      "step= 400 error value= 0.06947448541592857 w= [[0.91923775]\n",
      " [0.90301799]] b= [0.55091511]\n",
      "step= 500 error value= 0.05035375647138331 w= [[0.9284444 ]\n",
      " [0.91306301]] b= [0.55173992]\n",
      "step= 600 error value= 0.04433183058367901 w= [[0.93395982]\n",
      " [0.91838197]] b= [0.5515359]\n",
      "step= 700 error value= 0.04227585024252433 w= [[0.93744289]\n",
      " [0.92110196]] b= [0.55076856]\n",
      "step= 800 error value= 0.04142200225617078 w= [[0.93980615]\n",
      " [0.92239309]] b= [0.54969397]\n",
      "step= 900 error value= 0.040933857429426936 w= [[0.94155161]\n",
      " [0.92289901]] b= [0.54845298]\n",
      "step= 1000 error value= 0.0405582580787056 w= [[0.94295543]\n",
      " [0.92297383]] b= [0.54712308]\n",
      "step= 1100 error value= 0.04021856445241835 w= [[0.94416952]\n",
      " [0.9228123 ]] b= [0.54574686]\n",
      "step= 1200 error value= 0.03989156066897108 w= [[0.94527747]\n",
      " [0.92252158]] b= [0.54434775]\n",
      "step= 1300 error value= 0.03957020175200883 w= [[0.94632527]\n",
      " [0.9221606 ]] b= [0.54293864]\n",
      "step= 1400 error value= 0.039252338613354205 w= [[0.94733821]\n",
      " [0.92176178]] b= [0.54152659]\n",
      "step= 1500 error value= 0.03893730508149061 w= [[0.94833023]\n",
      " [0.92134295]] b= [0.54011548]\n",
      "step= 1600 error value= 0.03862488453321155 w= [[0.94930898]\n",
      " [0.92091391]] b= [0.53870745]\n",
      "step= 1700 error value= 0.038314996873968624 w= [[0.9502787 ]\n",
      " [0.92048006]] b= [0.53730364]\n",
      "step= 1800 error value= 0.038007603643651564 w= [[0.95124171]\n",
      " [0.92004435]] b= [0.53590469]\n",
      "step= 1900 error value= 0.03770267920637743 w= [[0.95219931]\n",
      " [0.91960841]] b= [0.53451092]\n",
      "step= 2000 error value= 0.03740020198018079 w= [[0.95315221]\n",
      " [0.91917314]] b= [0.53312252]\n"
     ]
    }
   ],
   "source": [
    "# 훈련\n",
    "learning_rate=1e-4\n",
    "f=lambda x: loss_func(x_data1, t_data1)\n",
    "print('init error value=',loss_func(x_data1, t_data1), 'init w=',w, 'init b=',b)\n",
    "\n",
    "for step in range(2001):\n",
    "    w-=learning_rate*numerical_derivative(f,w)\n",
    "    b-=learning_rate*numerical_derivative(f,b)\n",
    "\n",
    "    if step % 100 == 0:\n",
    "        print('step=',step, 'error value=',loss_func(x_data1,t_data1), 'w=',w, 'b=', b)"
   ]
  },
  {
   "cell_type": "code",
   "execution_count": 40,
   "metadata": {},
   "outputs": [
    {
     "ename": "ValueError",
     "evalue": "shapes (1,3) and (2,1) not aligned: 3 (dim 1) != 2 (dim 0)",
     "output_type": "error",
     "traceback": [
      "\u001b[1;31m---------------------------------------------------------------------------\u001b[0m",
      "\u001b[1;31mValueError\u001b[0m                                Traceback (most recent call last)",
      "Cell \u001b[1;32mIn[40], line 1\u001b[0m\n\u001b[1;32m----> 1\u001b[0m predict(np\u001b[38;5;241m.\u001b[39marray([[\u001b[38;5;241m75\u001b[39m,\u001b[38;5;241m80\u001b[39m,\u001b[38;5;241m85\u001b[39m]]))\n",
      "Cell \u001b[1;32mIn[32], line 3\u001b[0m, in \u001b[0;36mpredict\u001b[1;34m(x)\u001b[0m\n\u001b[0;32m      2\u001b[0m \u001b[38;5;28;01mdef\u001b[39;00m \u001b[38;5;21mpredict\u001b[39m(x):\n\u001b[1;32m----> 3\u001b[0m     y\u001b[38;5;241m=\u001b[39mnp\u001b[38;5;241m.\u001b[39mdot(x, w)\u001b[38;5;241m+\u001b[39mb\n",
      "File \u001b[1;32m<__array_function__ internals>:200\u001b[0m, in \u001b[0;36mdot\u001b[1;34m(*args, **kwargs)\u001b[0m\n",
      "\u001b[1;31mValueError\u001b[0m: shapes (1,3) and (2,1) not aligned: 3 (dim 1) != 2 (dim 0)"
     ]
    }
   ],
   "source": [
    "predict(np.array([[75,80,85]]))\n"
   ]
  }
 ],
 "metadata": {
  "kernelspec": {
   "display_name": "base",
   "language": "python",
   "name": "python3"
  },
  "language_info": {
   "codemirror_mode": {
    "name": "ipython",
    "version": 3
   },
   "file_extension": ".py",
   "mimetype": "text/x-python",
   "name": "python",
   "nbconvert_exporter": "python",
   "pygments_lexer": "ipython3",
   "version": "3.11.5"
  }
 },
 "nbformat": 4,
 "nbformat_minor": 2
}
