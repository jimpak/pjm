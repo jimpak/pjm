{
 "cells": [
  {
   "cell_type": "code",
   "execution_count": 41,
   "metadata": {},
   "outputs": [],
   "source": [
    "import numpy as np\n",
    "import matplotlib.pyplot as plt"
   ]
  },
  {
   "cell_type": "code",
   "execution_count": 42,
   "metadata": {},
   "outputs": [
    {
     "name": "stdout",
     "output_type": "stream",
     "text": [
      "[[1 2]\n",
      " [2 3]\n",
      " [3 4]\n",
      " [4 5]\n",
      " [5 6]]\n",
      "[[ 3]\n",
      " [ 5]\n",
      " [ 7]\n",
      " [ 9]\n",
      " [11]]\n"
     ]
    }
   ],
   "source": [
    "x_data1=np.array([[1,2],[2,3],[3,4],[4,5],[5,6]]).reshape(5,2)\n",
    "t_data1=np.array([3,5,7,9,11]).reshape(5,1)\n",
    "print(x_data1)\n",
    "print(t_data1)"
   ]
  },
  {
   "cell_type": "code",
   "execution_count": 43,
   "metadata": {},
   "outputs": [
    {
     "name": "stdout",
     "output_type": "stream",
     "text": [
      "[[0.09097465]\n",
      " [0.23984939]]\n",
      "[0.14296597]\n"
     ]
    }
   ],
   "source": [
    "w=np.random.rand(2,1)\n",
    "b=np.random.rand(1)\n",
    "print(w)\n",
    "print(b)"
   ]
  },
  {
   "cell_type": "code",
   "execution_count": 44,
   "metadata": {},
   "outputs": [],
   "source": [
    "# 제곱 손실\n",
    "def loss_func(x, t):\n",
    "    y=np.dot(x,w)+b\n",
    "    return (np.sum((t-y)**2))/(len(x))"
   ]
  },
  {
   "cell_type": "code",
   "execution_count": 45,
   "metadata": {},
   "outputs": [],
   "source": [
    "# 미분\n",
    "def numerical_derivative(f,x):\n",
    "    delta_x = 1e-4\n",
    "    grad=np.zeros_like(x)\n",
    "\n",
    "    it=np.nditer(x, flags=['multi_index'], op_flags=['readwrite'])\n",
    "\n",
    "    while not it.finished:\n",
    "        idx=it.multi_index\n",
    "        tmp_val = x[idx]\n",
    "        x[idx]=float(tmp_val)+delta_x\n",
    "        fx1=f(x)\n",
    "        x[idx]=float(tmp_val)-delta_x\n",
    "        fx2=f(x)\n",
    "        grad[idx] =(fx1-fx2)/(2*delta_x)\n",
    "\n",
    "        x[idx]=tmp_val\n",
    "        it.iternext()\n",
    "    \n",
    "    return grad"
   ]
  },
  {
   "cell_type": "code",
   "execution_count": 46,
   "metadata": {},
   "outputs": [],
   "source": [
    "# 예측\n",
    "def predict(x):\n",
    "    y=np.dot(x, w)+b"
   ]
  },
  {
   "cell_type": "code",
   "execution_count": 47,
   "metadata": {},
   "outputs": [
    {
     "name": "stdout",
     "output_type": "stream",
     "text": [
      "init error value= 37.20968758104573 init w= [[0.09097465]\n",
      " [0.23984939]] init b= [0.14296597]\n",
      "step= 0 error value= 36.76798403735743 w= [[0.09501715]\n",
      " [0.24501683]] b= [0.14408435]\n",
      "step= 100 error value= 11.150876568319323 w= [[0.39864695]\n",
      " [0.63274265]] b= [0.22768801]\n",
      "step= 200 error value= 3.3986665201204316 w= [[0.56608559]\n",
      " [0.84584176]] b= [0.27307755]\n",
      "step= 300 error value= 1.0525650124712258 w= [[0.65860379]\n",
      " [0.96287946]] b= [0.2974479]\n",
      "step= 400 error value= 0.34241258606541486 w= [[0.7099066 ]\n",
      " [1.02707451]] b= [0.31025801]\n",
      "step= 500 error value= 0.12731880778400245 w= [[0.73853517]\n",
      " [1.06220158]] b= [0.31671122]\n",
      "step= 600 error value= 0.062037599334172855 w= [[0.75468901]\n",
      " [1.08133909]] b= [0.31966989]\n",
      "step= 700 error value= 0.042093410870286396 w= [[0.76397888]\n",
      " [1.09168149]] b= [0.32070858]\n",
      "step= 800 error value= 0.03587055613997507 w= [[0.76949124]\n",
      " [1.09718644]] b= [0.32069346]\n",
      "step= 900 error value= 0.03380162441426761 w= [[0.77292398]\n",
      " [1.10003106]] b= [0.320101]\n",
      "step= 1000 error value= 0.03299131435689858 w= [[0.77521111]\n",
      " [1.10141296]] b= [0.31919329]\n",
      "step= 1100 error value= 0.03256341511686416 w= [[0.77686645]\n",
      " [1.10199096]] b= [0.3181145]\n",
      "step= 1200 error value= 0.03225273642319445 w= [[0.77817263]\n",
      " [1.10212746]] b= [0.31694392]\n",
      "step= 1300 error value= 0.03197900184520033 w= [[0.77928515]\n",
      " [1.10202182]] b= [0.31572518]\n",
      "step= 1400 error value= 0.031717898818173135 w= [[0.78028956]\n",
      " [1.10178371]] b= [0.31448225]\n",
      "step= 1500 error value= 0.03146205392178157 w= [[0.78123292]\n",
      " [1.10147345]] b= [0.31322832]\n",
      "step= 1600 error value= 0.03120922187676442 w= [[0.78214112]\n",
      " [1.10112423]] b= [0.31197062]\n",
      "step= 1700 error value= 0.030958710469217034 w= [[0.78302842]\n",
      " [1.10075428]] b= [0.31071314]\n",
      "step= 1800 error value= 0.03071029817763802 w= [[0.78390266]\n",
      " [1.10037365]] b= [0.30945804]\n",
      "step= 1900 error value= 0.030463906351340542 w= [[0.78476817]\n",
      " [1.09998785]] b= [0.30820653]\n",
      "step= 2000 error value= 0.030219499852084126 w= [[0.78562733]\n",
      " [1.09959992]] b= [0.30695924]\n"
     ]
    }
   ],
   "source": [
    "# 훈련\n",
    "learning_rate=1e-4\n",
    "f=lambda x: loss_func(x_data1, t_data1)\n",
    "print('init error value=',loss_func(x_data1, t_data1), 'init w=',w, 'init b=',b)\n",
    "\n",
    "for step in range(2001):\n",
    "    w-=learning_rate*numerical_derivative(f,w)\n",
    "    b-=learning_rate*numerical_derivative(f,b)\n",
    "\n",
    "    if step % 100 == 0:\n",
    "        print('step=',step, 'error value=',loss_func(x_data1,t_data1), 'w=',w, 'b=', b)"
   ]
  },
  {
   "cell_type": "code",
   "execution_count": 48,
   "metadata": {},
   "outputs": [
    {
     "name": "stdout",
     "output_type": "stream",
     "text": [
      "[[ 93  88  93]\n",
      " [ 89  91  90]\n",
      " [ 96  98 100]\n",
      " [ 73  66  70]\n",
      " [ 53  46  55]\n",
      " [ 69  74  77]\n",
      " [ 47  56  60]\n",
      " [ 87  79  90]\n",
      " [ 79  70  88]\n",
      " [ 69  70  73]\n",
      " [ 70  65  74]\n",
      " [ 93  95  91]\n",
      " [ 79  80  73]\n",
      " [ 70  73  78]\n",
      " [ 93  89  96]\n",
      " [ 78  75  68]\n",
      " [ 81  90  93]\n",
      " [ 88  92  86]\n",
      " [ 78  83  77]\n",
      " [ 82  86  90]\n",
      " [ 86  82  89]\n",
      " [ 78  83  85]\n",
      " [ 76  83  71]\n",
      " [ 96  93  95]]\n",
      "[[ 93]\n",
      " [ 88]\n",
      " [ 93]\n",
      " [ 89]\n",
      " [ 91]\n",
      " [ 90]\n",
      " [ 96]\n",
      " [ 98]\n",
      " [100]\n",
      " [ 73]\n",
      " [ 66]\n",
      " [ 70]\n",
      " [ 53]\n",
      " [ 46]\n",
      " [ 55]\n",
      " [ 69]\n",
      " [ 74]\n",
      " [ 77]\n",
      " [ 47]\n",
      " [ 56]\n",
      " [ 60]\n",
      " [ 87]\n",
      " [ 79]\n",
      " [ 90]\n",
      " [ 79]\n",
      " [ 70]\n",
      " [ 88]\n",
      " [ 69]\n",
      " [ 70]\n",
      " [ 73]\n",
      " [ 70]\n",
      " [ 65]\n",
      " [ 74]\n",
      " [ 93]\n",
      " [ 95]\n",
      " [ 91]\n",
      " [ 79]\n",
      " [ 80]\n",
      " [ 73]\n",
      " [ 70]\n",
      " [ 73]\n",
      " [ 78]\n",
      " [ 93]\n",
      " [ 89]\n",
      " [ 96]\n",
      " [ 78]\n",
      " [ 75]\n",
      " [ 68]\n",
      " [ 81]\n",
      " [ 90]\n",
      " [ 93]\n",
      " [ 88]\n",
      " [ 92]\n",
      " [ 86]\n",
      " [ 78]\n",
      " [ 83]\n",
      " [ 77]\n",
      " [ 82]\n",
      " [ 86]\n",
      " [ 90]\n",
      " [ 86]\n",
      " [ 82]\n",
      " [ 89]\n",
      " [ 78]\n",
      " [ 83]\n",
      " [ 85]\n",
      " [ 76]\n",
      " [ 83]\n",
      " [ 71]\n",
      " [ 96]\n",
      " [ 93]\n",
      " [ 95]]\n"
     ]
    }
   ],
   "source": [
    "import pandas as pd\n",
    "df=pd.read_csv('data/data-01-test-score.csv')\n",
    "data=np.array(df.values)\n",
    "x_data = data[:, :3].reshape(-1,3)\n",
    "t_data = data[:, :-1].reshape(-1,1)\n",
    "print(x_data)\n",
    "print(t_data)"
   ]
  },
  {
   "cell_type": "code",
   "execution_count": 49,
   "metadata": {},
   "outputs": [
    {
     "name": "stdout",
     "output_type": "stream",
     "text": [
      "[[0.52838703]\n",
      " [0.51335551]]\n",
      "[0.89772216]\n"
     ]
    }
   ],
   "source": [
    "w=np.random.rand(2,1)\n",
    "b=np.random.rand(1)\n",
    "print(w)\n",
    "print(b)"
   ]
  },
  {
   "cell_type": "code",
   "execution_count": 50,
   "metadata": {},
   "outputs": [],
   "source": [
    "# 제곱 손실\n",
    "def loss_func(x, t):\n",
    "    y=np.dot(x,w)+b\n",
    "    return (np.sum((t-y)**2))/(len(x))"
   ]
  },
  {
   "cell_type": "code",
   "execution_count": 51,
   "metadata": {},
   "outputs": [],
   "source": [
    "# 미분\n",
    "def numerical_derivative(f,x):\n",
    "    delta_x = 1e-4\n",
    "    grad=np.zeros_like(x)\n",
    "\n",
    "    it=np.nditer(x, flags=['multi_index'], op_flags=['readwrite'])\n",
    "\n",
    "    while not it.finished:\n",
    "        idx=it.multi_index\n",
    "        tmp_val = x[idx]\n",
    "        x[idx]=float(tmp_val)+delta_x\n",
    "        fx1=f(x)\n",
    "        x[idx]=float(tmp_val)-delta_x\n",
    "        fx2=f(x)\n",
    "        grad[idx] =(fx1-fx2)/(2*delta_x)\n",
    "\n",
    "        x[idx]=tmp_val\n",
    "        it.iternext()\n",
    "    \n",
    "    return grad"
   ]
  },
  {
   "cell_type": "code",
   "execution_count": 52,
   "metadata": {},
   "outputs": [],
   "source": [
    "# 예측\n",
    "def predict(x):\n",
    "    y = np.dot(x, w) + b\n",
    "    return y"
   ]
  },
  {
   "cell_type": "code",
   "execution_count": 53,
   "metadata": {},
   "outputs": [
    {
     "name": "stdout",
     "output_type": "stream",
     "text": [
      "init error value= 7.906306307046478 init w= [[0.52838703]\n",
      " [0.51335551]] init b= [0.89772216]\n",
      "step= 0 error value= 7.81409079880064 w= [[0.53024855]\n",
      " [0.51570977]] b= [0.8982119]\n",
      "step= 100 error value= 2.4654694260858676 w= [[0.67042563]\n",
      " [0.69219027]] b= [0.93429004]\n",
      "step= 200 error value= 0.8460978136974605 w= [[0.74837291]\n",
      " [0.78888881]] b= [0.95291716]\n",
      "step= 300 error value= 0.3552486266399769 w= [[0.79208422]\n",
      " [0.84170082]] b= [0.96194939]\n",
      "step= 400 error value= 0.20591210976022972 w= [[0.81695897]\n",
      " [0.87037238]] b= [0.96570834]\n",
      "step= 500 error value= 0.15992931093428917 w= [[0.8314684 ]\n",
      " [0.88576581]] b= [0.96657132]\n",
      "step= 600 error value= 0.14522989836499664 w= [[0.84027253]\n",
      " [0.89385645]] b= [0.96584607]\n",
      "step= 700 error value= 0.14000407902039808 w= [[0.84593488]\n",
      " [0.89793135]] b= [0.96425196]\n"
     ]
    },
    {
     "name": "stdout",
     "output_type": "stream",
     "text": [
      "step= 800 error value= 0.13765164831847793 w= [[0.84986564]\n",
      " [0.89979869]] b= [0.96218469]\n",
      "step= 900 error value= 0.13617510878576117 w= [[0.85284058]\n",
      " [0.90045317]] b= [0.95986192]\n",
      "step= 1000 error value= 0.1349698609329146 w= [[0.85528645]\n",
      " [0.90044194]] b= [0.95740337]\n",
      "step= 1100 error value= 0.13385285001605932 w= [[0.85743802]\n",
      " [0.90006601]] b= [0.95487487]\n",
      "step= 1200 error value= 0.13276860692526665 w= [[0.85942447]\n",
      " [0.89949093]] b= [0.95231262]\n",
      "step= 1300 error value= 0.13170028344078982 w= [[0.86131684]\n",
      " [0.89880779]] b= [0.9497365]\n",
      "step= 1400 error value= 0.1306427252646954 w= [[0.86315426]\n",
      " [0.89806667]] b= [0.94715746]\n",
      "step= 1500 error value= 0.12959432072315064 w= [[0.86495825]\n",
      " [0.89729513]] b= [0.94458147]\n",
      "step= 1600 error value= 0.12855453249772875 w= [[0.86674065]\n",
      " [0.89650831]] b= [0.94201181]\n",
      "step= 1700 error value= 0.12752314982245092 w= [[0.86850801]\n",
      " [0.89571456]] b= [0.93945027]\n",
      "step= 1800 error value= 0.12650006170763964 w= [[0.87026393]\n",
      " [0.89491843]] b= [0.9368978]\n",
      "step= 1900 error value= 0.1254851880489573 w= [[0.8720104 ]\n",
      " [0.89412244]] b= [0.93435493]\n",
      "step= 2000 error value= 0.12447845863311693 w= [[0.87374855]\n",
      " [0.89332797]] b= [0.93182191]\n"
     ]
    }
   ],
   "source": [
    "# 훈련\n",
    "learning_rate=1e-4\n",
    "f=lambda x: loss_func(x_data1, t_data1)\n",
    "print('init error value=',loss_func(x_data1, t_data1), 'init w=',w, 'init b=',b)\n",
    "\n",
    "for step in range(2001):\n",
    "    w-=learning_rate*numerical_derivative(f,w)\n",
    "    b-=learning_rate*numerical_derivative(f,b)\n",
    "\n",
    "    if step % 100 == 0:\n",
    "        print('step=',step, 'error value=',loss_func(x_data1,t_data1), 'w=',w, 'b=', b)"
   ]
  },
  {
   "cell_type": "code",
   "execution_count": 59,
   "metadata": {},
   "outputs": [
    {
     "ename": "ValueError",
     "evalue": "shapes (1,3) and (2,1) not aligned: 3 (dim 1) != 2 (dim 0)",
     "output_type": "error",
     "traceback": [
      "\u001b[1;31m---------------------------------------------------------------------------\u001b[0m",
      "\u001b[1;31mValueError\u001b[0m                                Traceback (most recent call last)",
      "Cell \u001b[1;32mIn[59], line 1\u001b[0m\n\u001b[1;32m----> 1\u001b[0m predict(np\u001b[38;5;241m.\u001b[39marray([[\u001b[38;5;241m75\u001b[39m,\u001b[38;5;241m80\u001b[39m,\u001b[38;5;241m85\u001b[39m]]))\n",
      "Cell \u001b[1;32mIn[52], line 3\u001b[0m, in \u001b[0;36mpredict\u001b[1;34m(x)\u001b[0m\n\u001b[0;32m      2\u001b[0m \u001b[38;5;28;01mdef\u001b[39;00m \u001b[38;5;21mpredict\u001b[39m(x):\n\u001b[1;32m----> 3\u001b[0m     y \u001b[38;5;241m=\u001b[39m np\u001b[38;5;241m.\u001b[39mdot(x, w) \u001b[38;5;241m+\u001b[39m b\n\u001b[0;32m      4\u001b[0m     \u001b[38;5;28;01mreturn\u001b[39;00m y\n",
      "File \u001b[1;32m<__array_function__ internals>:200\u001b[0m, in \u001b[0;36mdot\u001b[1;34m(*args, **kwargs)\u001b[0m\n",
      "\u001b[1;31mValueError\u001b[0m: shapes (1,3) and (2,1) not aligned: 3 (dim 1) != 2 (dim 0)"
     ]
    }
   ],
   "source": [
    "predict(np.array([[75,80,85]]))\n"
   ]
  }
 ],
 "metadata": {
  "kernelspec": {
   "display_name": "base",
   "language": "python",
   "name": "python3"
  },
  "language_info": {
   "codemirror_mode": {
    "name": "ipython",
    "version": 3
   },
   "file_extension": ".py",
   "mimetype": "text/x-python",
   "name": "python",
   "nbconvert_exporter": "python",
   "pygments_lexer": "ipython3",
   "version": "3.11.5"
  }
 },
 "nbformat": 4,
 "nbformat_minor": 2
}
