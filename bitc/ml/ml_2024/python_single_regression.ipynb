{
 "cells": [
  {
   "cell_type": "code",
   "execution_count": 1,
   "metadata": {},
   "outputs": [],
   "source": [
    "import numpy as np\n",
    "import matplotlib.pyplot as plt"
   ]
  },
  {
   "cell_type": "code",
   "execution_count": 5,
   "metadata": {},
   "outputs": [
    {
     "name": "stdout",
     "output_type": "stream",
     "text": [
      "[[1]\n",
      " [2]\n",
      " [3]\n",
      " [4]\n",
      " [5]]\n",
      "[[ 3]\n",
      " [ 5]\n",
      " [ 7]\n",
      " [ 9]\n",
      " [11]]\n"
     ]
    }
   ],
   "source": [
    "x_data1=np.array([1,2,3,4,5]).reshape(5,1)\n",
    "t_data1=np.array([3,5,7,9,11]).reshape(5,1)\n",
    "print(x_data1)\n",
    "print(t_data1)"
   ]
  },
  {
   "cell_type": "code",
   "execution_count": 30,
   "metadata": {},
   "outputs": [],
   "source": [
    "x_data2=np.array([9,14,21,27,32,37]).reshape(6,1)\n",
    "t_data2=np.array([74,81,86,90,88,92]).reshape(6,1)"
   ]
  },
  {
   "cell_type": "code",
   "execution_count": 20,
   "metadata": {},
   "outputs": [
    {
     "name": "stdout",
     "output_type": "stream",
     "text": [
      "[[0.24311599]] [0.5226437]\n"
     ]
    }
   ],
   "source": [
    "w=np.random.rand(1,1)\n",
    "b=np.random.rand(1)\n",
    "print(w, b)"
   ]
  },
  {
   "cell_type": "code",
   "execution_count": 22,
   "metadata": {},
   "outputs": [],
   "source": [
    "def loss_func1(x,t):\n",
    "    y=np.dot(x,w)+b\n",
    "\n",
    "    return (np.sum((t-y)**2))/(len(x))"
   ]
  },
  {
   "cell_type": "code",
   "execution_count": 24,
   "metadata": {},
   "outputs": [],
   "source": [
    "# 미분\n",
    "def numerical_derivative(f,x):\n",
    "    delta_x = 1e-4\n",
    "    grad=np.zeros_like(x)\n",
    "\n",
    "    it=np.nditer(x, flags=['multi_index'])\n",
    "\n",
    "    while not it.finished:\n",
    "        idx=it.multi_index\n",
    "        tmp_val = x[idx]\n",
    "        x[idx]=float(tmp_val)+delta_x\n",
    "        fx1=f(x)\n",
    "        x[idx]=float(tmp_val)-delta_x\n",
    "        fx2=f(x)\n",
    "        grad[idx] =(fx1-fx2)/(2*delta_x)\n",
    "\n",
    "        x[idx]=tmp_val\n",
    "        it.iternext()\n",
    "    \n",
    "    return grad"
   ]
  },
  {
   "cell_type": "code",
   "execution_count": 26,
   "metadata": {},
   "outputs": [],
   "source": [
    "# 예측\n",
    "def predict(x):\n",
    "    y=np.dot(w,x)+b\n",
    "    return y"
   ]
  },
  {
   "cell_type": "code",
   "execution_count": 32,
   "metadata": {},
   "outputs": [
    {
     "name": "stdout",
     "output_type": "stream",
     "text": [
      "Initial error value: 1.0384175542202634e+27 Initial w= [[-9.71552167e+12]] Initial b= [-1.93119824e+09]\n",
      "step: 0 error value: 1.0384175542202634e+27 w: [[-9.71552167e+12]] b: [-1.93119824e+09]\n",
      "step: 100 error value: 1.0384175542202634e+27 w: [[-9.71552167e+12]] b: [-1.93119824e+09]\n",
      "step: 200 error value: 1.0384175542202634e+27 w: [[-9.71552167e+12]] b: [-1.93119824e+09]\n",
      "step: 300 error value: 1.0384175542202634e+27 w: [[-9.71552167e+12]] b: [-1.93119824e+09]\n",
      "step: 400 error value: 1.0384175542202634e+27 w: [[-9.71552167e+12]] b: [-1.93119824e+09]\n",
      "step: 500 error value: 1.0384175542202634e+27 w: [[-9.71552167e+12]] b: [-1.93119824e+09]\n",
      "step: 600 error value: 1.0384175542202634e+27 w: [[-9.71552167e+12]] b: [-1.93119824e+09]\n",
      "step: 700 error value: 1.0384175542202634e+27 w: [[-9.71552167e+12]] b: [-1.93119824e+09]\n",
      "step: 800 error value: 1.0384175542202634e+27 w: [[-9.71552167e+12]] b: [-1.93119824e+09]\n",
      "step: 900 error value: 1.0384175542202634e+27 w: [[-9.71552167e+12]] b: [-1.93119824e+09]\n",
      "step: 1000 error value: 1.0384175542202634e+27 w: [[-9.71552167e+12]] b: [-1.93119824e+09]\n",
      "step: 1100 error value: 1.0384175542202634e+27 w: [[-9.71552167e+12]] b: [-1.93119824e+09]\n",
      "step: 1200 error value: 1.0384175542202634e+27 w: [[-9.71552167e+12]] b: [-1.93119824e+09]\n",
      "step: 1300 error value: 1.0384175542202634e+27 w: [[-9.71552167e+12]] b: [-1.93119824e+09]\n",
      "step: 1400 error value: 1.0384175542202634e+27 w: [[-9.71552167e+12]] b: [-1.93119824e+09]\n",
      "step: 1500 error value: 1.0384175542202634e+27 w: [[-9.71552167e+12]] b: [-1.93119824e+09]\n",
      "step: 1600 error value: 1.0384175542202634e+27 w: [[-9.71552167e+12]] b: [-1.93119824e+09]\n",
      "step: 1700 error value: 1.0384175542202634e+27 w: [[-9.71552167e+12]] b: [-1.93119824e+09]\n",
      "step: 1800 error value: 1.0384175542202634e+27 w: [[-9.71552167e+12]] b: [-1.93119824e+09]\n",
      "step: 1900 error value: 1.0384175542202634e+27 w: [[-9.71552167e+12]] b: [-1.93119824e+09]\n",
      "step: 2000 error value: 1.0384175542202634e+27 w: [[-9.71552167e+12]] b: [-1.93119824e+09]\n"
     ]
    }
   ],
   "source": [
    "cost_list=[]\n",
    "learning_rate=1e-2\n",
    "\n",
    "f=lambda x: loss_func1(x_data1, t_data1)\n",
    "\n",
    "print(\"Initial error value:\", loss_func1(x_data1, t_data1), \"Initial w=\",w, \"Initial b=\",b)\n",
    "\n",
    "for step in range(2001):\n",
    "    w-=learning_rate*numerical_derivative(f,w)\n",
    "    b-=learning_rate*numerical_derivative(f,b)\n",
    "\n",
    "    if step % 100 == 0:\n",
    "        print('step:', step, 'error value:', loss_func1(x_data1, t_data1), 'w:', w, 'b:', b)"
   ]
  },
  {
   "cell_type": "code",
   "execution_count": 31,
   "metadata": {},
   "outputs": [
    {
     "name": "stdout",
     "output_type": "stream",
     "text": [
      "Initial error value: 1603.4683861490469 Initial w= [[2.00002617]] Initial b= [0.99990554]\n",
      "step: 0 error value: 115922.58270653895 w: [[16.78640193]] b: [-5.15041347]\n",
      "step: 100 error value: 6.041134685861741e+28 w: [[-9.71552167e+12]] b: [-1.93119824e+09]\n",
      "step: 200 error value: 6.041134685861741e+28 w: [[-9.71552167e+12]] b: [-1.93119824e+09]\n",
      "step: 300 error value: 6.041134685861741e+28 w: [[-9.71552167e+12]] b: [-1.93119824e+09]\n",
      "step: 400 error value: 6.041134685861741e+28 w: [[-9.71552167e+12]] b: [-1.93119824e+09]\n",
      "step: 500 error value: 6.041134685861741e+28 w: [[-9.71552167e+12]] b: [-1.93119824e+09]\n",
      "step: 600 error value: 6.041134685861741e+28 w: [[-9.71552167e+12]] b: [-1.93119824e+09]\n",
      "step: 700 error value: 6.041134685861741e+28 w: [[-9.71552167e+12]] b: [-1.93119824e+09]\n",
      "step: 800 error value: 6.041134685861741e+28 w: [[-9.71552167e+12]] b: [-1.93119824e+09]\n",
      "step: 900 error value: 6.041134685861741e+28 w: [[-9.71552167e+12]] b: [-1.93119824e+09]\n",
      "step: 1000 error value: 6.041134685861741e+28 w: [[-9.71552167e+12]] b: [-1.93119824e+09]\n",
      "step: 1100 error value: 6.041134685861741e+28 w: [[-9.71552167e+12]] b: [-1.93119824e+09]\n",
      "step: 1200 error value: 6.041134685861741e+28 w: [[-9.71552167e+12]] b: [-1.93119824e+09]\n",
      "step: 1300 error value: 6.041134685861741e+28 w: [[-9.71552167e+12]] b: [-1.93119824e+09]\n",
      "step: 1400 error value: 6.041134685861741e+28 w: [[-9.71552167e+12]] b: [-1.93119824e+09]\n",
      "step: 1500 error value: 6.041134685861741e+28 w: [[-9.71552167e+12]] b: [-1.93119824e+09]\n",
      "step: 1600 error value: 6.041134685861741e+28 w: [[-9.71552167e+12]] b: [-1.93119824e+09]\n",
      "step: 1700 error value: 6.041134685861741e+28 w: [[-9.71552167e+12]] b: [-1.93119824e+09]\n",
      "step: 1800 error value: 6.041134685861741e+28 w: [[-9.71552167e+12]] b: [-1.93119824e+09]\n",
      "step: 1900 error value: 6.041134685861741e+28 w: [[-9.71552167e+12]] b: [-1.93119824e+09]\n",
      "step: 2000 error value: 6.041134685861741e+28 w: [[-9.71552167e+12]] b: [-1.93119824e+09]\n"
     ]
    }
   ],
   "source": [
    "cost_list=[]\n",
    "learning_rate=1e-2\n",
    "\n",
    "f=lambda x: loss_func1(x_data2, t_data2)\n",
    "\n",
    "print(\"Initial error value:\", loss_func1(x_data2, t_data2), \"Initial w=\",w, \"Initial b=\",b)\n",
    "\n",
    "for step in range(2001):\n",
    "    w-=learning_rate*numerical_derivative(f,w)\n",
    "    b-=learning_rate*numerical_derivative(f,b)\n",
    "\n",
    "    if step % 100 == 0:\n",
    "        print('step:', step, 'error value:', loss_func1(x_data2, t_data2), 'w:', w, 'b:', b)"
   ]
  },
  {
   "cell_type": "code",
   "execution_count": 37,
   "metadata": {},
   "outputs": [
    {
     "ename": "ValueError",
     "evalue": "cannot reshape array of size 1 into shape (2,1)",
     "output_type": "error",
     "traceback": [
      "\u001b[1;31m---------------------------------------------------------------------------\u001b[0m",
      "\u001b[1;31mValueError\u001b[0m                                Traceback (most recent call last)",
      "Cell \u001b[1;32mIn[37], line 1\u001b[0m\n\u001b[1;32m----> 1\u001b[0m predict(np\u001b[38;5;241m.\u001b[39marray([\u001b[38;5;241m40\u001b[39m])\u001b[38;5;241m.\u001b[39mreshape(\u001b[38;5;241m2\u001b[39m,\u001b[38;5;241m1\u001b[39m))\n",
      "\u001b[1;31mValueError\u001b[0m: cannot reshape array of size 1 into shape (2,1)"
     ]
    }
   ],
   "source": [
    "predict(np.array([40]).reshape(2,1))"
   ]
  }
 ],
 "metadata": {
  "kernelspec": {
   "display_name": "base",
   "language": "python",
   "name": "python3"
  },
  "language_info": {
   "codemirror_mode": {
    "name": "ipython",
    "version": 3
   },
   "file_extension": ".py",
   "mimetype": "text/x-python",
   "name": "python",
   "nbconvert_exporter": "python",
   "pygments_lexer": "ipython3",
   "version": "3.11.5"
  }
 },
 "nbformat": 4,
 "nbformat_minor": 2
}
