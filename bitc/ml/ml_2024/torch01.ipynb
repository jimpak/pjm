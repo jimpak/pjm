{
 "cells": [
  {
   "cell_type": "markdown",
   "metadata": {},
   "source": [
    "pytorch를 cpu 버전으로 설치 (conda 설치 실패 시 이 방법으로 설치)\n",
    "# ! pip install torch"
   ]
  },
  {
   "cell_type": "code",
   "execution_count": 1,
   "metadata": {},
   "outputs": [],
   "source": [
    "import torch;"
   ]
  },
  {
   "cell_type": "code",
   "execution_count": 2,
   "metadata": {},
   "outputs": [
    {
     "name": "stdout",
     "output_type": "stream",
     "text": [
      "tensor([[1, 2],\n",
      "        [3, 4]])\n",
      "tensor([[1., 2.],\n",
      "        [3., 4.]], dtype=torch.float64)\n"
     ]
    }
   ],
   "source": [
    "print(torch.tensor([[1,2],[3,4]]))\n",
    "# print(torch.tensor([[1,2],[3,4]], device=\"cuda:0\"))\n",
    "print(torch.tensor([[1,2],[3,4]], dtype=torch.float64))"
   ]
  },
  {
   "cell_type": "code",
   "execution_count": 3,
   "metadata": {},
   "outputs": [
    {
     "data": {
      "text/plain": [
       "tensor([[ 1.,  2.,  3.,  4.],\n",
       "        [10., 20., 30., 40.]], dtype=torch.float64)"
      ]
     },
     "execution_count": 3,
     "metadata": {},
     "output_type": "execute_result"
    }
   ],
   "source": [
    "a=[[1,2,3,4], [10,20,30,40]]\n",
    "t1=torch.tensor(a, dtype=torch.float64)\n",
    "t1"
   ]
  },
  {
   "cell_type": "code",
   "execution_count": 4,
   "metadata": {},
   "outputs": [
    {
     "name": "stdout",
     "output_type": "stream",
     "text": [
      "tensor([[ 1.,  2.,  3.,  4.],\n",
      "        [10., 20., 30., 40.]])\n",
      "tensor([[ 1,  2,  3,  4],\n",
      "        [10, 20, 30, 40]])\n",
      "tensor([[ 1,  2,  3,  4],\n",
      "        [10, 20, 30, 40]], dtype=torch.uint8)\n"
     ]
    }
   ],
   "source": [
    "ft=torch.FloatTensor(a); print(ft)\n",
    "lt=torch.LongTensor(a); print(lt)\n",
    "bt=torch.ByteTensor(a); print(bt)"
   ]
  },
  {
   "cell_type": "code",
   "execution_count": 5,
   "metadata": {},
   "outputs": [],
   "source": [
    "import numpy as np"
   ]
  },
  {
   "cell_type": "code",
   "execution_count": 6,
   "metadata": {},
   "outputs": [
    {
     "name": "stdout",
     "output_type": "stream",
     "text": [
      "[[ 1  2  3  4]\n",
      " [10 20 30 40]] <class 'numpy.ndarray'>\n"
     ]
    }
   ],
   "source": [
    "x=np.array(a)\n",
    "print(x, type(x))"
   ]
  },
  {
   "cell_type": "code",
   "execution_count": 7,
   "metadata": {},
   "outputs": [
    {
     "name": "stdout",
     "output_type": "stream",
     "text": [
      "tensor([[ 1,  2,  3,  4],\n",
      "        [10, 20, 30, 40]], dtype=torch.int32) <class 'torch.Tensor'>\n"
     ]
    }
   ],
   "source": [
    "tx=torch.from_numpy(x)\n",
    "print(tx, type(tx))"
   ]
  },
  {
   "cell_type": "code",
   "execution_count": 8,
   "metadata": {},
   "outputs": [
    {
     "name": "stdout",
     "output_type": "stream",
     "text": [
      "[[ 1  2  3  4]\n",
      " [10 20 30 40]] <class 'numpy.ndarray'>\n"
     ]
    }
   ],
   "source": [
    "x1=tx.numpy()\n",
    "print(x1, type(x1))"
   ]
  },
  {
   "cell_type": "markdown",
   "metadata": {},
   "source": [
    "torch와 numpy는 쉽게 변환가능"
   ]
  },
  {
   "cell_type": "code",
   "execution_count": 9,
   "metadata": {},
   "outputs": [
    {
     "name": "stdout",
     "output_type": "stream",
     "text": [
      "tensor([[ 1,  2,  3,  4],\n",
      "        [10, 20, 30, 40]], dtype=torch.int32)\n",
      "tensor([[ 1.,  2.,  3.,  4.],\n",
      "        [10., 20., 30., 40.]])\n",
      "tensor([[ 1,  2,  3,  4],\n",
      "        [10, 20, 30, 40]])\n",
      "tensor([[ 1,  2,  3,  4],\n",
      "        [10, 20, 30, 40]], dtype=torch.int32)\n",
      "tensor([[ 1,  2,  3,  4],\n",
      "        [10, 20, 30, 40]], dtype=torch.uint8)\n"
     ]
    }
   ],
   "source": [
    "# 파이토치 기본문법\n",
    "print(tx)\n",
    "ft=tx.float()\n",
    "print(ft)\n",
    "lt=ft.long()\n",
    "print(lt)\n",
    "it=lt.int()\n",
    "print(it)\n",
    "dt=it.byte()\n",
    "print(dt)"
   ]
  },
  {
   "cell_type": "code",
   "execution_count": 10,
   "metadata": {},
   "outputs": [
    {
     "data": {
      "text/plain": [
       "[[[1, 2, 3], [4, 5, 6]],\n",
       " [[7, 8, 9], [10, 11, 12]],\n",
       " [[13, 14, 15], [16, 17, 18]]]"
      ]
     },
     "execution_count": 10,
     "metadata": {},
     "output_type": "execute_result"
    }
   ],
   "source": [
    "list=[[[1,2,3],[4,5,6]],[[7,8,9],[10,11,12]],[[13,14,15],[16,17,18]]]\n",
    "list"
   ]
  },
  {
   "cell_type": "code",
   "execution_count": 11,
   "metadata": {},
   "outputs": [
    {
     "data": {
      "text/plain": [
       "tensor([[[ 1.,  2.,  3.],\n",
       "         [ 4.,  5.,  6.]],\n",
       "\n",
       "        [[ 7.,  8.,  9.],\n",
       "         [10., 11., 12.]],\n",
       "\n",
       "        [[13., 14., 15.],\n",
       "         [16., 17., 18.]]])"
      ]
     },
     "execution_count": 11,
     "metadata": {},
     "output_type": "execute_result"
    }
   ],
   "source": [
    "t1=torch.FloatTensor(list)\n",
    "t1"
   ]
  },
  {
   "cell_type": "code",
   "execution_count": 12,
   "metadata": {},
   "outputs": [
    {
     "name": "stdout",
     "output_type": "stream",
     "text": [
      "torch.Size([3, 2, 3])\n",
      "torch.Size([3, 2, 3])\n",
      "3\n",
      "3\n",
      "3\n",
      "3\n"
     ]
    }
   ],
   "source": [
    "# torch tensor 크기\n",
    "print(t1.size())\n",
    "print(t1.shape)\n",
    "print(t1.size(-1))\n",
    "print(t1.shape[-1])\n",
    "\n",
    "# 차원\n",
    "print(t1.dim())\n",
    "print(len(t1.size()))"
   ]
  },
  {
   "cell_type": "code",
   "execution_count": 13,
   "metadata": {},
   "outputs": [],
   "source": [
    "a = torch.FloatTensor([[1, 2],[3, 4]])\n",
    "b = torch.FloatTensor([[2, 2],[3, 3]])"
   ]
  },
  {
   "cell_type": "code",
   "execution_count": 14,
   "metadata": {},
   "outputs": [
    {
     "name": "stdout",
     "output_type": "stream",
     "text": [
      "tensor([[3., 4.],\n",
      "        [6., 7.]])\n",
      "tensor([[-1.,  0.],\n",
      "        [ 0.,  1.]])\n",
      "tensor([[ 2.,  4.],\n",
      "        [ 9., 12.]])\n",
      "tensor([[0.5000, 1.0000],\n",
      "        [1.0000, 1.3333]])\n",
      "tensor([[False,  True],\n",
      "        [ True, False]])\n",
      "tensor([[ True, False],\n",
      "        [False,  True]])\n",
      "tensor([[ 1.,  4.],\n",
      "        [27., 64.]])\n"
     ]
    }
   ],
   "source": [
    "print(a+b)\n",
    "print(a-b)\n",
    "print(a*b)\n",
    "print(a/b)\n",
    "print(a==b)\n",
    "print(a!=b)\n",
    "print(a**b)"
   ]
  },
  {
   "cell_type": "code",
   "execution_count": 15,
   "metadata": {},
   "outputs": [
    {
     "name": "stdout",
     "output_type": "stream",
     "text": [
      "tensor([[ 2.,  4.],\n",
      "        [ 9., 12.]])\n",
      "tensor(10.)\n",
      "tensor(2.5000)\n",
      "tensor([4., 6.])\n",
      "tensor([3., 7.])\n",
      "tensor([2., 3.])\n",
      "tensor([1.5000, 3.5000])\n"
     ]
    }
   ],
   "source": [
    "print(a.mul(b))\n",
    "print(a.sum()) # 합계\n",
    "print(a.mean()) # 평균\n",
    "print(a.sum(dim=0))\n",
    "print(a.sum(dim=-1))\n",
    "print(a.mean(dim=0))\n",
    "print(a.mean(dim=-1))"
   ]
  },
  {
   "cell_type": "code",
   "execution_count": 16,
   "metadata": {},
   "outputs": [
    {
     "name": "stdout",
     "output_type": "stream",
     "text": [
      "tensor([[[11., 12., 13.],\n",
      "         [14., 15., 16.]],\n",
      "\n",
      "        [[17., 18., 19.],\n",
      "         [20., 21., 22.]],\n",
      "\n",
      "        [[23., 24., 25.],\n",
      "         [26., 27., 28.]]])\n",
      "tensor([[[ 0.,  1.,  2.],\n",
      "         [ 3.,  4.,  5.]],\n",
      "\n",
      "        [[ 6.,  7.,  8.],\n",
      "         [ 9., 10., 11.]],\n",
      "\n",
      "        [[12., 13., 14.],\n",
      "         [15., 16., 17.]]])\n"
     ]
    }
   ],
   "source": [
    "print(t1+10)\n",
    "print(t1-1)"
   ]
  },
  {
   "cell_type": "code",
   "execution_count": 17,
   "metadata": {},
   "outputs": [
    {
     "name": "stdout",
     "output_type": "stream",
     "text": [
      "tensor([[[ 1.,  2.,  3.],\n",
      "         [ 4.,  5.,  6.]],\n",
      "\n",
      "        [[ 7.,  8.,  9.],\n",
      "         [10., 11., 12.]],\n",
      "\n",
      "        [[13., 14., 15.],\n",
      "         [16., 17., 18.]]])\n",
      "tensor([[[ 2.,  4.,  6.],\n",
      "         [ 5.,  7.,  9.]],\n",
      "\n",
      "        [[ 8., 10., 12.],\n",
      "         [11., 13., 15.]],\n",
      "\n",
      "        [[14., 16., 18.],\n",
      "         [17., 19., 21.]]])\n"
     ]
    }
   ],
   "source": [
    "print(t1)\n",
    "t0=torch.tensor([1,2,3]) # 1차원 크기 맞춰야 연산가능.\n",
    "print(t1+t0)"
   ]
  },
  {
   "cell_type": "code",
   "execution_count": 18,
   "metadata": {},
   "outputs": [
    {
     "name": "stdout",
     "output_type": "stream",
     "text": [
      "tensor([[[ 1.,  2.,  3.],\n",
      "         [ 4.,  5.,  6.]],\n",
      "\n",
      "        [[ 7.,  8.,  9.],\n",
      "         [10., 11., 12.]],\n",
      "\n",
      "        [[13., 14., 15.],\n",
      "         [16., 17., 18.]]])\n",
      "tensor([[1, 2, 3],\n",
      "        [4, 5, 6]])\n",
      "tensor([[[ 2.,  4.,  6.],\n",
      "         [ 8., 10., 12.]],\n",
      "\n",
      "        [[ 8., 10., 12.],\n",
      "         [14., 16., 18.]],\n",
      "\n",
      "        [[14., 16., 18.],\n",
      "         [20., 22., 24.]]])\n"
     ]
    }
   ],
   "source": [
    "t2=torch.tensor([[1,2,3],[4,5,6]]) # 1차원 크기에 맞춰야 연산가능\n",
    "print(t1)\n",
    "print(t2)\n",
    "print(t1+t2)"
   ]
  },
  {
   "cell_type": "code",
   "execution_count": 19,
   "metadata": {},
   "outputs": [
    {
     "data": {
      "text/plain": [
       "torch.Size([3, 2, 3])"
      ]
     },
     "execution_count": 19,
     "metadata": {},
     "output_type": "execute_result"
    }
   ],
   "source": [
    "t1.size()"
   ]
  },
  {
   "cell_type": "code",
   "execution_count": 20,
   "metadata": {},
   "outputs": [
    {
     "name": "stdout",
     "output_type": "stream",
     "text": [
      "tensor([ 1.,  2.,  3.,  4.,  5.,  6.,  7.,  8.,  9., 10., 11., 12., 13., 14.,\n",
      "        15., 16., 17., 18.])\n",
      "tensor([[ 1.,  2.,  3.],\n",
      "        [ 4.,  5.,  6.],\n",
      "        [ 7.,  8.,  9.],\n",
      "        [10., 11., 12.],\n",
      "        [13., 14., 15.],\n",
      "        [16., 17., 18.]])\n",
      "tensor([[ 1.,  2.,  3.,  4.,  5.,  6.],\n",
      "        [ 7.,  8.,  9., 10., 11., 12.],\n",
      "        [13., 14., 15., 16., 17., 18.]])\n",
      "tensor([[ 1.,  2.,  3.,  4.,  5.,  6.],\n",
      "        [ 7.,  8.,  9., 10., 11., 12.],\n",
      "        [13., 14., 15., 16., 17., 18.]])\n",
      "tensor([[[ 1.,  2.,  3.],\n",
      "         [ 4.,  5.,  6.],\n",
      "         [ 7.,  8.,  9.]],\n",
      "\n",
      "        [[10., 11., 12.],\n",
      "         [13., 14., 15.],\n",
      "         [16., 17., 18.]]])\n",
      "tensor([[[ 1.,  2.],\n",
      "         [ 3.,  4.],\n",
      "         [ 5.,  6.]],\n",
      "\n",
      "        [[ 7.,  8.],\n",
      "         [ 9., 10.],\n",
      "         [11., 12.]],\n",
      "\n",
      "        [[13., 14.],\n",
      "         [15., 16.],\n",
      "         [17., 18.]]])\n"
     ]
    }
   ],
   "source": [
    "# 형태변환\n",
    "print(t1.view(-1))\n",
    "print(t1.view(-1,3))\n",
    "print(t1.view(3,-1))\n",
    "print(t1.view(3,6))\n",
    "print(t1.view(2,3,3))\n",
    "print(t1.view(3,3,2))"
   ]
  },
  {
   "cell_type": "code",
   "execution_count": 21,
   "metadata": {},
   "outputs": [
    {
     "name": "stdout",
     "output_type": "stream",
     "text": [
      "tensor([ 1.,  2.,  3.,  4.,  5.,  6.,  7.,  8.,  9., 10., 11., 12., 13., 14.,\n",
      "        15., 16., 17., 18.])\n",
      "tensor([[ 1.,  2.,  3.],\n",
      "        [ 4.,  5.,  6.],\n",
      "        [ 7.,  8.,  9.],\n",
      "        [10., 11., 12.],\n",
      "        [13., 14., 15.],\n",
      "        [16., 17., 18.]])\n",
      "tensor([[ 1.,  2.,  3.,  4.,  5.,  6.],\n",
      "        [ 7.,  8.,  9., 10., 11., 12.],\n",
      "        [13., 14., 15., 16., 17., 18.]])\n",
      "tensor([[ 1.,  2.,  3.,  4.,  5.,  6.],\n",
      "        [ 7.,  8.,  9., 10., 11., 12.],\n",
      "        [13., 14., 15., 16., 17., 18.]])\n",
      "tensor([[[ 1.,  2.,  3.],\n",
      "         [ 4.,  5.,  6.],\n",
      "         [ 7.,  8.,  9.]],\n",
      "\n",
      "        [[10., 11., 12.],\n",
      "         [13., 14., 15.],\n",
      "         [16., 17., 18.]]])\n",
      "tensor([[[ 1.,  2.],\n",
      "         [ 3.,  4.],\n",
      "         [ 5.,  6.]],\n",
      "\n",
      "        [[ 7.,  8.],\n",
      "         [ 9., 10.],\n",
      "         [11., 12.]],\n",
      "\n",
      "        [[13., 14.],\n",
      "         [15., 16.],\n",
      "         [17., 18.]]])\n"
     ]
    }
   ],
   "source": [
    "# 형태변환\n",
    "print(t1.reshape(-1))\n",
    "print(t1.reshape(-1,3))\n",
    "print(t1.reshape(3,-1))\n",
    "print(t1.reshape(3,6))\n",
    "print(t1.reshape(2,3,3))\n",
    "print(t1.reshape(3,3,2))"
   ]
  },
  {
   "cell_type": "code",
   "execution_count": 22,
   "metadata": {},
   "outputs": [
    {
     "name": "stdout",
     "output_type": "stream",
     "text": [
      "tensor([[[[ 1.],\n",
      "          [ 2.]],\n",
      "\n",
      "         [[ 3.],\n",
      "          [ 4.]],\n",
      "\n",
      "         [[ 5.],\n",
      "          [ 6.]]],\n",
      "\n",
      "\n",
      "        [[[ 7.],\n",
      "          [ 8.]],\n",
      "\n",
      "         [[ 9.],\n",
      "          [10.]],\n",
      "\n",
      "         [[11.],\n",
      "          [12.]]],\n",
      "\n",
      "\n",
      "        [[[13.],\n",
      "          [14.]],\n",
      "\n",
      "         [[15.],\n",
      "          [16.]],\n",
      "\n",
      "         [[17.],\n",
      "          [18.]]]])\n"
     ]
    }
   ],
   "source": [
    "print(t1.view(3,3,2,-1))"
   ]
  },
  {
   "cell_type": "code",
   "execution_count": 23,
   "metadata": {},
   "outputs": [
    {
     "name": "stdout",
     "output_type": "stream",
     "text": [
      "torch.Size([3, 2, 1, 3])\n",
      "torch.Size([3, 2, 3])\n",
      "torch.Size([3, 1, 2, 3])\n"
     ]
    }
   ],
   "source": [
    "t10=t1.view(3,2,1,3)\n",
    "print(t10.size())\n",
    "t11=t10.squeeze() # 차원의 크기가 1인 차원 제거\n",
    "print(t11.size())\n",
    "t12=t11.unsqueeze(1) # 지정된 인덱스에 차원의 크기가 1인 차원 삽입\n",
    "print(t12.size())"
   ]
  },
  {
   "cell_type": "code",
   "execution_count": 24,
   "metadata": {},
   "outputs": [
    {
     "name": "stdout",
     "output_type": "stream",
     "text": [
      "tensor([[[ 1.,  2.,  3.],\n",
      "         [ 4.,  5.,  6.]],\n",
      "\n",
      "        [[ 7.,  8.,  9.],\n",
      "         [10., 11., 12.]],\n",
      "\n",
      "        [[13., 14., 15.],\n",
      "         [16., 17., 18.]]])\n",
      "tensor([16., 17., 18.])\n",
      "tensor([14., 17.])\n"
     ]
    }
   ],
   "source": [
    "print(t1)\n",
    "print(t1[2,1])\n",
    "print(t1[2,:,1])"
   ]
  },
  {
   "cell_type": "code",
   "execution_count": 25,
   "metadata": {},
   "outputs": [
    {
     "data": {
      "text/plain": [
       "tensor([[1.4013e-45, 0.0000e+00, 1.4013e-45, 0.0000e+00],\n",
       "        [1.4013e-45, 0.0000e+00, 1.4013e-45, 0.0000e+00],\n",
       "        [1.4013e-45, 0.0000e+00, 1.4013e-45, 0.0000e+00],\n",
       "        [1.4013e-45, 0.0000e+00, 1.4013e-45, 0.0000e+00],\n",
       "        [1.4013e-45, 0.0000e+00, 1.4013e-45, 0.0000e+00],\n",
       "        [1.4013e-45, 0.0000e+00, 1.4013e-45, 0.0000e+00],\n",
       "        [1.4013e-45, 0.0000e+00, 1.4013e-45, 0.0000e+00],\n",
       "        [1.4013e-45, 0.0000e+00, 1.4013e-45, 0.0000e+00],\n",
       "        [1.4013e-45, 0.0000e+00, 1.4013e-45, 0.0000e+00],\n",
       "        [0.0000e+00, 0.0000e+00, 0.0000e+00, 0.0000e+00]])"
      ]
     },
     "execution_count": 25,
     "metadata": {},
     "output_type": "execute_result"
    }
   ],
   "source": [
    "x=torch.FloatTensor(10,4)\n",
    "x"
   ]
  },
  {
   "cell_type": "code",
   "execution_count": 26,
   "metadata": {},
   "outputs": [
    {
     "name": "stdout",
     "output_type": "stream",
     "text": [
      "(tensor([[1.4013e-45, 0.0000e+00, 1.4013e-45, 0.0000e+00],\n",
      "        [1.4013e-45, 0.0000e+00, 1.4013e-45, 0.0000e+00],\n",
      "        [1.4013e-45, 0.0000e+00, 1.4013e-45, 0.0000e+00],\n",
      "        [1.4013e-45, 0.0000e+00, 1.4013e-45, 0.0000e+00]]), tensor([[1.4013e-45, 0.0000e+00, 1.4013e-45, 0.0000e+00],\n",
      "        [1.4013e-45, 0.0000e+00, 1.4013e-45, 0.0000e+00],\n",
      "        [1.4013e-45, 0.0000e+00, 1.4013e-45, 0.0000e+00],\n",
      "        [1.4013e-45, 0.0000e+00, 1.4013e-45, 0.0000e+00]]), tensor([[1.4013e-45, 0.0000e+00, 1.4013e-45, 0.0000e+00],\n",
      "        [0.0000e+00, 0.0000e+00, 0.0000e+00, 0.0000e+00]]))\n"
     ]
    }
   ],
   "source": [
    "splits = x.split(4, dim=0)\n",
    "print(splits)"
   ]
  },
  {
   "cell_type": "code",
   "execution_count": 27,
   "metadata": {},
   "outputs": [
    {
     "name": "stdout",
     "output_type": "stream",
     "text": [
      "(tensor([[1.4013e-45, 0.0000e+00, 1.4013e-45, 0.0000e+00],\n",
      "        [1.4013e-45, 0.0000e+00, 1.4013e-45, 0.0000e+00],\n",
      "        [1.4013e-45, 0.0000e+00, 1.4013e-45, 0.0000e+00],\n",
      "        [1.4013e-45, 0.0000e+00, 1.4013e-45, 0.0000e+00]]), tensor([[1.4013e-45, 0.0000e+00, 1.4013e-45, 0.0000e+00],\n",
      "        [1.4013e-45, 0.0000e+00, 1.4013e-45, 0.0000e+00],\n",
      "        [1.4013e-45, 0.0000e+00, 1.4013e-45, 0.0000e+00],\n",
      "        [1.4013e-45, 0.0000e+00, 1.4013e-45, 0.0000e+00]]), tensor([[1.4013e-45, 0.0000e+00, 1.4013e-45, 0.0000e+00],\n",
      "        [0.0000e+00, 0.0000e+00, 0.0000e+00, 0.0000e+00]]))\n"
     ]
    }
   ],
   "source": [
    "chunks = x.chunk(3, dim=0)\n",
    "print(chunks)"
   ]
  },
  {
   "cell_type": "code",
   "execution_count": 28,
   "metadata": {},
   "outputs": [
    {
     "name": "stdout",
     "output_type": "stream",
     "text": [
      "tensor([[[ 1.,  2.,  3.],\n",
      "         [ 4.,  5.,  6.]],\n",
      "\n",
      "        [[ 7.,  8.,  9.],\n",
      "         [10., 11., 12.]],\n",
      "\n",
      "        [[13., 14., 15.],\n",
      "         [16., 17., 18.]]])\n",
      "tensor([[[ 7.,  8.,  9.],\n",
      "         [10., 11., 12.]],\n",
      "\n",
      "        [[13., 14., 15.],\n",
      "         [16., 17., 18.]]])\n"
     ]
    }
   ],
   "source": [
    "print(t1)\n",
    "indice=torch.LongTensor([1,2])\n",
    "y=t1.index_select(dim=0, index=indice)\n",
    "print(y)"
   ]
  },
  {
   "cell_type": "code",
   "execution_count": 29,
   "metadata": {},
   "outputs": [
    {
     "name": "stdout",
     "output_type": "stream",
     "text": [
      "torch.Size([3, 3])\n",
      "torch.Size([3, 3])\n"
     ]
    }
   ],
   "source": [
    "x=torch.FloatTensor([[1,2,3],[4,5,6],[7,8,9]])\n",
    "y=torch.FloatTensor([[11,12,13],[14,15,16],[17,18,19]])\n",
    "print(x.size())\n",
    "print(y.size())"
   ]
  },
  {
   "cell_type": "code",
   "execution_count": 30,
   "metadata": {},
   "outputs": [
    {
     "name": "stdout",
     "output_type": "stream",
     "text": [
      "tensor([[ 1.,  2.,  3.],\n",
      "        [ 4.,  5.,  6.],\n",
      "        [ 7.,  8.,  9.],\n",
      "        [11., 12., 13.],\n",
      "        [14., 15., 16.],\n",
      "        [17., 18., 19.]])\n",
      "tensor([[ 1.,  2.,  3., 11., 12., 13.],\n",
      "        [ 4.,  5.,  6., 14., 15., 16.],\n",
      "        [ 7.,  8.,  9., 17., 18., 19.]])\n"
     ]
    }
   ],
   "source": [
    "z=torch.cat([x,y], dim=0)\n",
    "print(z)\n",
    "z1=torch.cat([x,y], dim=1)\n",
    "print(z1)"
   ]
  },
  {
   "cell_type": "code",
   "execution_count": 31,
   "metadata": {},
   "outputs": [
    {
     "data": {
      "text/plain": [
       "tensor([[[ 1.,  2.,  3.],\n",
       "         [ 4.,  5.,  6.],\n",
       "         [ 7.,  8.,  9.]],\n",
       "\n",
       "        [[11., 12., 13.],\n",
       "         [14., 15., 16.],\n",
       "         [17., 18., 19.]]])"
      ]
     },
     "execution_count": 31,
     "metadata": {},
     "output_type": "execute_result"
    }
   ],
   "source": [
    "z11=torch.stack([x,y])\n",
    "z11"
   ]
  },
  {
   "cell_type": "code",
   "execution_count": 32,
   "metadata": {},
   "outputs": [
    {
     "name": "stdout",
     "output_type": "stream",
     "text": [
      "torch.Size([2, 1, 2])\n",
      "tensor([[[1., 2.],\n",
      "         [1., 2.],\n",
      "         [1., 2.]],\n",
      "\n",
      "        [[3., 4.],\n",
      "         [3., 4.],\n",
      "         [3., 4.]]])\n"
     ]
    }
   ],
   "source": [
    "x=torch.FloatTensor([[[1,2]],[[3,4]]])\n",
    "print(x.size())\n",
    "y=x.expand(2,3,2)\n",
    "print(y)"
   ]
  },
  {
   "cell_type": "code",
   "execution_count": 33,
   "metadata": {},
   "outputs": [
    {
     "name": "stdout",
     "output_type": "stream",
     "text": [
      "tensor([[[1., 2.],\n",
      "         [1., 2.],\n",
      "         [1., 2.]],\n",
      "\n",
      "        [[3., 4.],\n",
      "         [3., 4.],\n",
      "         [3., 4.]]])\n"
     ]
    }
   ],
   "source": [
    "y=torch.cat([x]*3, dim=1)\n",
    "print(y)"
   ]
  },
  {
   "cell_type": "code",
   "execution_count": 34,
   "metadata": {},
   "outputs": [
    {
     "name": "stdout",
     "output_type": "stream",
     "text": [
      "tensor([3, 7, 8, 2, 0, 6, 1, 4, 9, 5])\n",
      "torch.Size([10])\n"
     ]
    }
   ],
   "source": [
    "x=torch.randperm(10)\n",
    "print(x)\n",
    "print(x.size())"
   ]
  },
  {
   "cell_type": "code",
   "execution_count": 35,
   "metadata": {},
   "outputs": [
    {
     "name": "stdout",
     "output_type": "stream",
     "text": [
      "tensor([[[18,  4, 20],\n",
      "         [16,  6, 17],\n",
      "         [10, 15, 26]],\n",
      "\n",
      "        [[21,  1, 11],\n",
      "         [ 7,  0, 23],\n",
      "         [ 2,  8, 24]],\n",
      "\n",
      "        [[13, 12,  5],\n",
      "         [25, 19, 14],\n",
      "         [ 9,  3, 22]]])\n",
      "torch.Size([3, 3, 3])\n"
     ]
    }
   ],
   "source": [
    "x=torch.randperm(3**3).reshape(3,3,-1)\n",
    "print(x)\n",
    "print(x.size())"
   ]
  },
  {
   "cell_type": "code",
   "execution_count": 36,
   "metadata": {},
   "outputs": [
    {
     "name": "stdout",
     "output_type": "stream",
     "text": [
      "tensor([[1, 2, 0],\n",
      "        [2, 2, 1],\n",
      "        [0, 0, 0]])\n",
      "tensor([[0, 2, 2],\n",
      "        [0, 2, 2],\n",
      "        [1, 1, 2]])\n",
      "tensor([[2, 2, 2],\n",
      "        [0, 2, 2],\n",
      "        [0, 0, 2]])\n"
     ]
    }
   ],
   "source": [
    "# argmax(dim=n) (0:1차원, 1:2차원)\n",
    "y1=x.argmax(dim=0)\n",
    "print(y1)\n",
    "y2=x.argmax(dim=1)\n",
    "print(y2)\n",
    "y3=x.argmax(dim=-1)\n",
    "print(y3)"
   ]
  },
  {
   "cell_type": "code",
   "execution_count": 37,
   "metadata": {},
   "outputs": [
    {
     "name": "stdout",
     "output_type": "stream",
     "text": [
      "tensor([[[20, 18],\n",
      "         [17, 16],\n",
      "         [26, 15]],\n",
      "\n",
      "        [[21, 11],\n",
      "         [23,  7],\n",
      "         [24,  8]],\n",
      "\n",
      "        [[13, 12],\n",
      "         [25, 19],\n",
      "         [22,  9]]])\n"
     ]
    }
   ],
   "source": [
    "#  가장 큰 k개 값과 index 반환\n",
    "values, indices = torch.topk(x, k=2, dim=-1)\n",
    "print(values)"
   ]
  },
  {
   "cell_type": "code",
   "execution_count": 38,
   "metadata": {},
   "outputs": [
    {
     "name": "stdout",
     "output_type": "stream",
     "text": [
      "tensor([[0., 1., 2.],\n",
      "        [3., 4., 5.],\n",
      "        [6., 7., 8.]])\n",
      "tensor([[3, 6, 5],\n",
      "        [1, 4, 2],\n",
      "        [8, 0, 7]])\n",
      "tensor([[False, False, False],\n",
      "        [False, False,  True],\n",
      "        [ True,  True,  True]])\n",
      "tensor([[0., 1., 2.],\n",
      "        [3., 4., 0.],\n",
      "        [0., 0., 0.]])\n",
      "tensor([[False,  True,  True],\n",
      "        [False, False, False],\n",
      "        [ True, False,  True]])\n",
      "tensor([[3, 0, 0],\n",
      "        [1, 4, 2],\n",
      "        [0, 0, 0]])\n"
     ]
    }
   ],
   "source": [
    "x1=torch.FloatTensor([i for i in range(3**2)]).view(3,-1)\n",
    "print(x1)\n",
    "x2=torch.randperm(9).view(3,-1)\n",
    "print(x2)\n",
    "\n",
    "mask1=x1>4\n",
    "print(mask1)\n",
    "y1=x1.masked_fill(mask1, value=0) # mask 값이 True인 경우 0으로 출력\n",
    "print(y1)\n",
    "\n",
    "mask2=x2>4\n",
    "print(mask2)\n",
    "y2=x2.masked_fill(mask2, value=0)\n",
    "print(y2)"
   ]
  },
  {
   "cell_type": "code",
   "execution_count": 39,
   "metadata": {},
   "outputs": [
    {
     "name": "stdout",
     "output_type": "stream",
     "text": [
      "tensor([[1., 1., 1.],\n",
      "        [1., 1., 1.]])\n",
      "tensor([[0., 0., 0.],\n",
      "        [0., 0., 0.]])\n"
     ]
    }
   ],
   "source": [
    "print(torch.ones(2,3))\n",
    "print(torch.zeros(2,3))"
   ]
  },
  {
   "cell_type": "code",
   "execution_count": 40,
   "metadata": {},
   "outputs": [
    {
     "data": {
      "text/plain": [
       "torch.Size([2, 3])"
      ]
     },
     "execution_count": 40,
     "metadata": {},
     "output_type": "execute_result"
    }
   ],
   "source": [
    "x=torch.FloatTensor([[1,2,3],[4,5,6]])\n",
    "x.size()"
   ]
  },
  {
   "cell_type": "code",
   "execution_count": 41,
   "metadata": {},
   "outputs": [
    {
     "name": "stdout",
     "output_type": "stream",
     "text": [
      "tensor([[1., 1., 1.],\n",
      "        [1., 1., 1.]])\n",
      "tensor([[0., 0., 0.],\n",
      "        [0., 0., 0.]])\n"
     ]
    }
   ],
   "source": [
    "print(torch.ones_like(x))\n",
    "print(torch.zeros_like(x))"
   ]
  }
 ],
 "metadata": {
  "kernelspec": {
   "display_name": "base",
   "language": "python",
   "name": "python3"
  },
  "language_info": {
   "codemirror_mode": {
    "name": "ipython",
    "version": 3
   },
   "file_extension": ".py",
   "mimetype": "text/x-python",
   "name": "python",
   "nbconvert_exporter": "python",
   "pygments_lexer": "ipython3",
   "version": "3.11.5"
  }
 },
 "nbformat": 4,
 "nbformat_minor": 2
}
