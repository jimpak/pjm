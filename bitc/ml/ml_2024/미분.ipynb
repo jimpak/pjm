{
 "cells": [
  {
   "cell_type": "code",
   "execution_count": 2,
   "metadata": {},
   "outputs": [],
   "source": [
    "import numpy as np"
   ]
  },
  {
   "cell_type": "code",
   "execution_count": 3,
   "metadata": {},
   "outputs": [
    {
     "name": "stdout",
     "output_type": "stream",
     "text": [
      "9\n"
     ]
    }
   ],
   "source": [
    "def func1(x):\n",
    "    return x**2\n",
    "print(func1(3))"
   ]
  },
  {
   "cell_type": "code",
   "execution_count": 4,
   "metadata": {},
   "outputs": [
    {
     "name": "stdout",
     "output_type": "stream",
     "text": [
      "28\n"
     ]
    }
   ],
   "source": [
    "def func2(x):\n",
    "    return 2*x**2+3*x+1\n",
    "print(func2(3))"
   ]
  },
  {
   "cell_type": "code",
   "execution_count": 5,
   "metadata": {},
   "outputs": [],
   "source": [
    "def numerical_derivative(f,x):\n",
    "    delta_x=1e-4\n",
    "    return(f(x+delta_x)-f(x-delta_x))/(2*delta_x)"
   ]
  },
  {
   "cell_type": "code",
   "execution_count": 6,
   "metadata": {},
   "outputs": [
    {
     "data": {
      "text/plain": [
       "6.000000000012662"
      ]
     },
     "execution_count": 6,
     "metadata": {},
     "output_type": "execute_result"
    }
   ],
   "source": [
    "result1=numerical_derivative(func1, 3)\n",
    "result1"
   ]
  },
  {
   "cell_type": "code",
   "execution_count": 7,
   "metadata": {},
   "outputs": [
    {
     "data": {
      "text/plain": [
       "11.00000000000989"
      ]
     },
     "execution_count": 7,
     "metadata": {},
     "output_type": "execute_result"
    }
   ],
   "source": [
    "result2=numerical_derivative(func2, 2)\n",
    "result2"
   ]
  },
  {
   "cell_type": "code",
   "execution_count": 8,
   "metadata": {},
   "outputs": [],
   "source": [
    "def numerical_derivative2(f,x):\n",
    "    delta_x = 1e-4\n",
    "    grad=np.zeros_like(x)\n",
    "    print('x:', x)\n",
    "    print('grad:', grad)\n",
    "\n",
    "    it=np.nditer(x, flags=['multi_index'])\n",
    "    # flags : c_index(1차원 array일때), multi_index(2차원 이상일 때)\n",
    "    # op_flags : 읽기/쓰기 옵션설정, default : readonly\n",
    "\n",
    "    while not it.finished:\n",
    "        idx=it.multi_index\n",
    "        print('idx:', idx, 'x[idx]:', x[idx])\n",
    "        tmp_val = x[idx]\n",
    "        x[idx]=float(tmp_val)+delta_x\n",
    "        fx1=f(x)\n",
    "        x[idx]=float(tmp_val)-delta_x\n",
    "        fx2=f(x)\n",
    "        grad[idx] =(fx1-fx2)/(2*delta_x)\n",
    "        print('grad[idx]:', grad[idx])\n",
    "        print('grad:', grad)\n",
    "\n",
    "        x[idx]=tmp_val\n",
    "        it.iternext()\n",
    "    \n",
    "    return grad"
   ]
  },
  {
   "cell_type": "code",
   "execution_count": 9,
   "metadata": {},
   "outputs": [],
   "source": [
    "def func3(input):\n",
    "    x=input[0]\n",
    "    y=input[1]\n",
    "    return (2*x + 3*x*y + np.power(y, 3))"
   ]
  },
  {
   "cell_type": "code",
   "execution_count": 10,
   "metadata": {},
   "outputs": [
    {
     "name": "stdout",
     "output_type": "stream",
     "text": [
      "x: [1. 2.]\n",
      "grad: [0. 0.]\n",
      "idx: (0,) x[idx]: 1.0\n",
      "grad[idx]: 7.999999999990237\n",
      "grad: [8. 0.]\n",
      "idx: (1,) x[idx]: 2.0\n",
      "grad[idx]: 15.000000010019221\n",
      "grad: [ 8.         15.00000001]\n"
     ]
    },
    {
     "data": {
      "text/plain": [
       "array([ 8.        , 15.00000001])"
      ]
     },
     "execution_count": 10,
     "metadata": {},
     "output_type": "execute_result"
    }
   ],
   "source": [
    "numerical_derivative2(func3, np.array([1.0, 2.0]))"
   ]
  },
  {
   "cell_type": "code",
   "execution_count": 11,
   "metadata": {},
   "outputs": [
    {
     "name": "stdout",
     "output_type": "stream",
     "text": [
      "x: [2. 1.]\n",
      "grad: [0. 0.]\n",
      "idx: (0,) x[idx]: 2.0\n",
      "grad[idx]: 5.0000000000149925\n",
      "grad: [5. 0.]\n",
      "idx: (1,) x[idx]: 1.0\n",
      "grad[idx]: 9.00000001000656\n",
      "grad: [5.         9.00000001]\n"
     ]
    },
    {
     "data": {
      "text/plain": [
       "array([5.        , 9.00000001])"
      ]
     },
     "execution_count": 11,
     "metadata": {},
     "output_type": "execute_result"
    }
   ],
   "source": [
    "numerical_derivative2(func3, np.array([2.0, 1.0]))"
   ]
  },
  {
   "cell_type": "code",
   "execution_count": 19,
   "metadata": {},
   "outputs": [],
   "source": [
    "def func4(input):\n",
    "    w=input[0][0]\n",
    "    x=input[0][1]\n",
    "    y=input[1][0]\n",
    "    z=input[1][1]\n",
    "\n",
    "    return(w*x + w*y*z + 3*w + z*np.power(y,2))"
   ]
  },
  {
   "cell_type": "code",
   "execution_count": 14,
   "metadata": {},
   "outputs": [
    {
     "data": {
      "text/plain": [
       "array([[1., 2.],\n",
       "       [3., 4.]])"
      ]
     },
     "execution_count": 14,
     "metadata": {},
     "output_type": "execute_result"
    }
   ],
   "source": [
    "arr1=np.array([[1.0,2.0],[3.0,4.0]])\n",
    "arr1"
   ]
  },
  {
   "cell_type": "code",
   "execution_count": 20,
   "metadata": {},
   "outputs": [
    {
     "name": "stdout",
     "output_type": "stream",
     "text": [
      "x: [[1.0003 2.    ]\n",
      " [3.     4.    ]]\n",
      "grad: [[0. 0.]\n",
      " [0. 0.]]\n",
      "idx: (0, 0) x[idx]: 1.0003\n",
      "grad[idx]: 16.999999999995907\n",
      "grad: [[17.  0.]\n",
      " [ 0.  0.]]\n",
      "idx: (0, 1) x[idx]: 2.0\n",
      "grad[idx]: 1.0002999999869644\n",
      "grad: [[17.      1.0003]\n",
      " [ 0.      0.    ]]\n",
      "idx: (1, 0) x[idx]: 3.0\n",
      "grad[idx]: 28.00120000006956\n",
      "grad: [[17.      1.0003]\n",
      " [28.0012  0.    ]]\n",
      "idx: (1, 1) x[idx]: 4.0\n",
      "grad[idx]: 12.000900000010972\n",
      "grad: [[17.      1.0003]\n",
      " [28.0012 12.0009]]\n"
     ]
    },
    {
     "data": {
      "text/plain": [
       "array([[17.    ,  1.0003],\n",
       "       [28.0012, 12.0009]])"
      ]
     },
     "execution_count": 20,
     "metadata": {},
     "output_type": "execute_result"
    }
   ],
   "source": [
    "numerical_derivative2(func4, arr1)\n"
   ]
  },
  {
   "cell_type": "code",
   "execution_count": null,
   "metadata": {},
   "outputs": [],
   "source": []
  }
 ],
 "metadata": {
  "kernelspec": {
   "display_name": "base",
   "language": "python",
   "name": "python3"
  },
  "language_info": {
   "codemirror_mode": {
    "name": "ipython",
    "version": 3
   },
   "file_extension": ".py",
   "mimetype": "text/x-python",
   "name": "python",
   "nbconvert_exporter": "python",
   "pygments_lexer": "ipython3",
   "version": "3.11.5"
  }
 },
 "nbformat": 4,
 "nbformat_minor": 2
}
